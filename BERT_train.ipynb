{
  "cells": [
    {
      "attachments": {},
      "cell_type": "markdown",
      "metadata": {},
      "source": [
        "# Training on Text-only BERT Embeddings"
      ]
    },
    {
      "cell_type": "code",
      "execution_count": 1,
      "metadata": {
        "colab": {
          "base_uri": "https://localhost:8080/",
          "height": 1000
        },
        "id": "dKml_S0MNTdX",
        "outputId": "05a20047-11cf-42e7-f783-5eafdb14bbc9"
      },
      "outputs": [],
      "source": [
        "# !pip install tensorflow-text\n",
        "# !pip install bert-tensorflow\n",
        "# !pip install tf-models-official"
      ]
    },
    {
      "cell_type": "code",
      "execution_count": 3,
      "metadata": {
        "id": "Wlh99ADUB2gW"
      },
      "outputs": [],
      "source": [
        "import os, tensorflow as tf, tensorflow_hub as hub, tensorflow_text as text, numpy as np, pandas as pd\n",
        "from sklearn.metrics import classification_report, roc_curve, det_curve, precision_recall_curve, roc_auc_score, accuracy_score,confusion_matrix\n",
        "\n",
        "from tensorflow import keras\n",
        "from tensorflow.keras import backend as K\n",
        "from tensorflow.keras.optimizers import Adam\n",
        "from tensorflow.keras.models import Model\n",
        "from tensorflow.keras.utils import to_categorical\n",
        "from tensorflow.keras.optimizers import Adam\n",
        "from sklearn.preprocessing import LabelEncoder\n",
        "from tensorflow.keras.callbacks import EarlyStopping, ModelCheckpoint\n",
        "from sklearn.model_selection import train_test_split\n",
        "from classificationreport import ClassificationReport ## this is a python script provided in the directory"
      ]
    },
    {
      "cell_type": "code",
      "execution_count": 1,
      "metadata": {
        "colab": {
          "base_uri": "https://localhost:8080/"
        },
        "id": "hkIQLEZ7_GZ9",
        "outputId": "78774a86-f24d-4acb-e22a-86dcde6fd0e1"
      },
      "outputs": [
        {
          "name": "stdout",
          "output_type": "stream",
          "text": [
            "Mounted at /content/drive\n"
          ]
        }
      ],
      "source": [
        "from google.colab import drive\n",
        "drive.mount('/content/drive')"
      ]
    },
    {
      "attachments": {},
      "cell_type": "markdown",
      "metadata": {},
      "source": [
        "First, we import the train and test CSVs, which consists of the 'Utterences' for each audio segment."
      ]
    },
    {
      "cell_type": "code",
      "execution_count": 4,
      "metadata": {
        "id": "8-tg1Y-AB28i"
      },
      "outputs": [],
      "source": [
        "train_df=pd.read_csv(\"/content/drive/MyDrive/DL_Emotion_Classification/train_sent_emo.csv\",encoding='latin1')"
      ]
    },
    {
      "cell_type": "code",
      "execution_count": 5,
      "metadata": {
        "colab": {
          "base_uri": "https://localhost:8080/"
        },
        "id": "JXs_NBe7B3AK",
        "outputId": "47733828-a35e-4ad0-baf1-4f358a01ec02"
      },
      "outputs": [
        {
          "data": {
            "text/plain": [
              "(9988, 11)"
            ]
          },
          "execution_count": 5,
          "metadata": {},
          "output_type": "execute_result"
        }
      ],
      "source": [
        "train_df.shape"
      ]
    },
    {
      "cell_type": "code",
      "execution_count": 7,
      "metadata": {
        "id": "UnPImLZbB3QT"
      },
      "outputs": [],
      "source": [
        "test_df=pd.read_csv(\"/content/drive/MyDrive/DL_Emotion_Classification/test_sent_emo.csv\",encoding='latin1')"
      ]
    },
    {
      "cell_type": "code",
      "execution_count": 8,
      "metadata": {
        "colab": {
          "base_uri": "https://localhost:8080/"
        },
        "id": "2cR4L0pKUsLK",
        "outputId": "d974d283-5bc9-479a-d11b-9e0a7ae6d677"
      },
      "outputs": [
        {
          "data": {
            "text/plain": [
              "(2610, 11)"
            ]
          },
          "execution_count": 8,
          "metadata": {},
          "output_type": "execute_result"
        }
      ],
      "source": [
        "test_df.shape"
      ]
    },
    {
      "attachments": {},
      "cell_type": "markdown",
      "metadata": {},
      "source": [
        "The emotions are labeled by any of these seven emotions -- Anger, Disgust, Sadness, Joy, Neutral, Surprise and Fear. Machine learning models typically work with numerical data, so we need to do Label encoding which converts categorical labels into numeric values, allowing the model to process and learn from them."
      ]
    },
    {
      "cell_type": "code",
      "execution_count": 9,
      "metadata": {
        "id": "KyKiQsMme7zb"
      },
      "outputs": [],
      "source": [
        "le = LabelEncoder()\n",
        "\n",
        "train_df['emotion_encoded'] = le.fit_transform(train_df['Emotion'])\n",
        "test_df['emotion_encoded'] = le.transform(test_df['Emotion'])\n",
        "class_names_encoded = le.classes_\n",
        "\n",
        "y_train = train_df['Emotion']\n",
        "y_train_encoded = train_df['emotion_encoded']\n",
        "\n",
        "y_test = test_df['Emotion']\n",
        "y_test_encoded = test_df['emotion_encoded']"
      ]
    },
    {
      "cell_type": "code",
      "execution_count": 10,
      "metadata": {
        "id": "9v0Xo7Y-ib6T"
      },
      "outputs": [],
      "source": [
        "y_train_encoded = to_categorical(np.array(y_train_encoded))\n",
        "y_test_encoded = to_categorical(np.array(y_test_encoded))"
      ]
    },
    {
      "cell_type": "code",
      "execution_count": 11,
      "metadata": {
        "id": "-WYdJoNdgDC7"
      },
      "outputs": [],
      "source": [
        "x_train = train_df['Utterance']\n",
        "x_test = test_df['Utterance']"
      ]
    },
    {
      "attachments": {},
      "cell_type": "markdown",
      "metadata": {},
      "source": [
        "Since the zip file of the validation set provided with the MELD dataset was corrupted, we created our own validation split from the train data."
      ]
    },
    {
      "cell_type": "code",
      "execution_count": 12,
      "metadata": {
        "id": "6sqbd0Ou8PVj"
      },
      "outputs": [],
      "source": [
        "X_train, X_val, Y_train_encoded, Y_val_encoded = train_test_split(x_train, y_train_encoded, test_size=0.2, random_state=42)"
      ]
    },
    {
      "attachments": {},
      "cell_type": "markdown",
      "metadata": {},
      "source": [
        "We load the BERT text preprocessing model from TensorFlow Hub. The BERT model for English text, with uncased vocabulary, and version 3 is used. The `hub.KerasLayer` allows the model to be used as a Keras layer within the TensorFlow framework. The purpose of this preprocessing model is to tokenize and preprocess the input text to be compatible with BERT's input requirements. \n",
        "<br>\n",
        "Then we load the BERT encoder model from TensorFlow Hub. The BERT base model for English text, with an uncased vocabulary, 12 layers, 768 hidden units, and 12 attention heads is used. This model is responsible for encoding the preprocessed text into meaningful representations or embeddings. "
      ]
    },
    {
      "cell_type": "code",
      "execution_count": 13,
      "metadata": {
        "id": "gBe0bolebewx"
      },
      "outputs": [],
      "source": [
        "bert_preprocess = hub.KerasLayer(\"https://tfhub.dev/tensorflow/bert_en_uncased_preprocess/3\")\n",
        "bert_encoder = hub.KerasLayer(\"https://tfhub.dev/tensorflow/bert_en_uncased_L-12_H-768_A-12/4\")"
      ]
    },
    {
      "cell_type": "code",
      "execution_count": 14,
      "metadata": {
        "id": "ptABzd3J9UQt"
      },
      "outputs": [],
      "source": [
        "type = 'BERT_LSTM'"
      ]
    },
    {
      "attachments": {},
      "cell_type": "markdown",
      "metadata": {},
      "source": [
        "We use checkpoints and early stopping to ensure that the model stops training before it starts to overfit on the training data."
      ]
    },
    {
      "cell_type": "code",
      "execution_count": 15,
      "metadata": {
        "id": "4MIUdlJ7820G"
      },
      "outputs": [],
      "source": [
        "checkpoint = ModelCheckpoint(type + '.h5', monitor='val_accuracy',verbose=1, save_best_only=True)\n",
        "es = EarlyStopping(monitor = \"val_accuracy\", min_delta = 0.01, patience=10, mode = \"max\", restore_best_weights = True, verbose=1)"
      ]
    },
    {
      "cell_type": "code",
      "execution_count": 16,
      "metadata": {
        "colab": {
          "base_uri": "https://localhost:8080/"
        },
        "id": "DlzJwMljblWd",
        "outputId": "e925916d-10eb-4c71-f8d1-7d265f0e2e78"
      },
      "outputs": [
        {
          "name": "stdout",
          "output_type": "stream",
          "text": [
            "Model: \"model\"\n",
            "__________________________________________________________________________________________________\n",
            " Layer (type)                   Output Shape         Param #     Connected to                     \n",
            "==================================================================================================\n",
            " text (InputLayer)              [(None,)]            0           []                               \n",
            "                                                                                                  \n",
            " keras_layer (KerasLayer)       {'input_word_ids':   0           ['text[0][0]']                   \n",
            "                                (None, 128),                                                      \n",
            "                                 'input_type_ids':                                                \n",
            "                                (None, 128),                                                      \n",
            "                                 'input_mask': (Non                                               \n",
            "                                e, 128)}                                                          \n",
            "                                                                                                  \n",
            " keras_layer_1 (KerasLayer)     {'pooled_output': (  109482241   ['keras_layer[0][0]',            \n",
            "                                None, 768),                       'keras_layer[0][1]',            \n",
            "                                 'default': (None,                'keras_layer[0][2]']            \n",
            "                                768),                                                             \n",
            "                                 'encoder_outputs':                                               \n",
            "                                 [(None, 128, 768),                                               \n",
            "                                 (None, 128, 768),                                                \n",
            "                                 (None, 128, 768),                                                \n",
            "                                 (None, 128, 768),                                                \n",
            "                                 (None, 128, 768),                                                \n",
            "                                 (None, 128, 768),                                                \n",
            "                                 (None, 128, 768),                                                \n",
            "                                 (None, 128, 768),                                                \n",
            "                                 (None, 128, 768),                                                \n",
            "                                 (None, 128, 768),                                                \n",
            "                                 (None, 128, 768),                                                \n",
            "                                 (None, 128, 768)],                                               \n",
            "                                 'sequence_output':                                               \n",
            "                                 (None, 128, 768)}                                                \n",
            "                                                                                                  \n",
            " lstm (LSTM)                    (None, 128)          459264      ['keras_layer_1[0][14]']         \n",
            "                                                                                                  \n",
            " dropout (Dropout)              (None, 128)          0           ['lstm[0][0]']                   \n",
            "                                                                                                  \n",
            " output (Dense)                 (None, 7)            903         ['dropout[0][0]']                \n",
            "                                                                                                  \n",
            "==================================================================================================\n",
            "Total params: 109,942,408\n",
            "Trainable params: 460,167\n",
            "Non-trainable params: 109,482,241\n",
            "__________________________________________________________________________________________________\n"
          ]
        }
      ],
      "source": [
        "text_input = tf.keras.layers.Input(shape=(), dtype=tf.string, name='text')\n",
        "preprocessed_text = bert_preprocess(text_input)\n",
        "outputs = bert_encoder(preprocessed_text)\n",
        "LSTM_Layer = tf.keras.layers.LSTM(units=128)(outputs['sequence_output'])\n",
        "Dropout_Layer = tf.keras.layers.Dropout(0.1, name=\"dropout\")(LSTM_Layer)\n",
        "Dense_Layer = tf.keras.layers.Dense(7, activation='softmax', name=\"output\")(Dropout_Layer)\n",
        "model = tf.keras.Model(inputs=[text_input], outputs = [Dense_Layer])\n",
        "model.compile(optimizer='adam', loss='categorical_crossentropy', metrics=['accuracy'])\n",
        "model.summary()"
      ]
    },
    {
      "cell_type": "code",
      "execution_count": 17,
      "metadata": {
        "colab": {
          "base_uri": "https://localhost:8080/"
        },
        "id": "x8I7nmhtz9QS",
        "outputId": "8ed8cc53-1905-42ba-b0cc-d408d58f9914"
      },
      "outputs": [
        {
          "name": "stdout",
          "output_type": "stream",
          "text": [
            "Epoch 1/50\n",
            "250/250 [==============================] - ETA: 0s - loss: 1.2204 - accuracy: 0.5910\n",
            "Epoch 1: val_accuracy improved from -inf to 0.60511, saving model to BERT_LSTM.h5\n",
            "250/250 [==============================] - 147s 524ms/step - loss: 1.2204 - accuracy: 0.5910 - val_loss: 1.1894 - val_accuracy: 0.6051\n",
            "Epoch 2/50\n",
            "250/250 [==============================] - ETA: 0s - loss: 1.1159 - accuracy: 0.6269\n",
            "Epoch 2: val_accuracy improved from 0.60511 to 0.61211, saving model to BERT_LSTM.h5\n",
            "250/250 [==============================] - 110s 441ms/step - loss: 1.1159 - accuracy: 0.6269 - val_loss: 1.1437 - val_accuracy: 0.6121\n",
            "Epoch 3/50\n",
            "250/250 [==============================] - ETA: 0s - loss: 1.0707 - accuracy: 0.6384\n",
            "Epoch 3: val_accuracy did not improve from 0.61211\n",
            "250/250 [==============================] - 128s 513ms/step - loss: 1.0707 - accuracy: 0.6384 - val_loss: 1.1386 - val_accuracy: 0.6096\n",
            "Epoch 4/50\n",
            "250/250 [==============================] - ETA: 0s - loss: 1.0301 - accuracy: 0.6528\n",
            "Epoch 4: val_accuracy did not improve from 0.61211\n",
            "250/250 [==============================] - 128s 513ms/step - loss: 1.0301 - accuracy: 0.6528 - val_loss: 1.1373 - val_accuracy: 0.6101\n",
            "Epoch 5/50\n",
            "250/250 [==============================] - ETA: 0s - loss: 0.9816 - accuracy: 0.6685\n",
            "Epoch 5: val_accuracy improved from 0.61211 to 0.61812, saving model to BERT_LSTM.h5\n",
            "250/250 [==============================] - 130s 522ms/step - loss: 0.9816 - accuracy: 0.6685 - val_loss: 1.1430 - val_accuracy: 0.6181\n",
            "Epoch 6/50\n",
            "250/250 [==============================] - ETA: 0s - loss: 0.9345 - accuracy: 0.6792\n",
            "Epoch 6: val_accuracy did not improve from 0.61812\n",
            "250/250 [==============================] - 129s 515ms/step - loss: 0.9345 - accuracy: 0.6792 - val_loss: 1.1704 - val_accuracy: 0.6126\n",
            "Epoch 7/50\n",
            "250/250 [==============================] - ETA: 0s - loss: 0.8782 - accuracy: 0.6971\n",
            "Epoch 7: val_accuracy did not improve from 0.61812\n",
            "250/250 [==============================] - 128s 512ms/step - loss: 0.8782 - accuracy: 0.6971 - val_loss: 1.1948 - val_accuracy: 0.5936\n",
            "Epoch 8/50\n",
            "250/250 [==============================] - ETA: 0s - loss: 0.8277 - accuracy: 0.7175\n",
            "Epoch 8: val_accuracy did not improve from 0.61812\n",
            "250/250 [==============================] - 128s 514ms/step - loss: 0.8277 - accuracy: 0.7175 - val_loss: 1.2190 - val_accuracy: 0.5941\n",
            "Epoch 9/50\n",
            "250/250 [==============================] - ETA: 0s - loss: 0.7788 - accuracy: 0.7305\n",
            "Epoch 9: val_accuracy did not improve from 0.61812\n",
            "250/250 [==============================] - 108s 433ms/step - loss: 0.7788 - accuracy: 0.7305 - val_loss: 1.2579 - val_accuracy: 0.5966\n",
            "Epoch 10/50\n",
            "250/250 [==============================] - ETA: 0s - loss: 0.7197 - accuracy: 0.7499\n",
            "Epoch 10: val_accuracy did not improve from 0.61812\n",
            "250/250 [==============================] - 108s 433ms/step - loss: 0.7197 - accuracy: 0.7499 - val_loss: 1.2634 - val_accuracy: 0.5871\n",
            "Epoch 11/50\n",
            "250/250 [==============================] - ETA: 0s - loss: 0.6409 - accuracy: 0.7766\n",
            "Epoch 11: val_accuracy did not improve from 0.61812\n",
            "250/250 [==============================] - 128s 514ms/step - loss: 0.6409 - accuracy: 0.7766 - val_loss: 1.3211 - val_accuracy: 0.5931\n",
            "Epoch 12/50\n",
            "250/250 [==============================] - ETA: 0s - loss: 0.5737 - accuracy: 0.8005\n",
            "Epoch 12: val_accuracy did not improve from 0.61812\n",
            "250/250 [==============================] - 109s 435ms/step - loss: 0.5737 - accuracy: 0.8005 - val_loss: 1.3265 - val_accuracy: 0.5901\n",
            "Epoch 13/50\n",
            "250/250 [==============================] - ETA: 0s - loss: 0.4948 - accuracy: 0.8335\n",
            "Epoch 13: val_accuracy did not improve from 0.61812\n",
            "250/250 [==============================] - 128s 515ms/step - loss: 0.4948 - accuracy: 0.8335 - val_loss: 1.4261 - val_accuracy: 0.5906\n",
            "Epoch 14/50\n",
            "250/250 [==============================] - ETA: 0s - loss: 0.4381 - accuracy: 0.8523\n",
            "Epoch 14: val_accuracy did not improve from 0.61812\n",
            "250/250 [==============================] - 108s 433ms/step - loss: 0.4381 - accuracy: 0.8523 - val_loss: 1.5752 - val_accuracy: 0.5811\n",
            "Epoch 15/50\n",
            "250/250 [==============================] - ETA: 0s - loss: 0.3747 - accuracy: 0.8750Restoring model weights from the end of the best epoch: 5.\n",
            "\n",
            "Epoch 15: val_accuracy did not improve from 0.61812\n",
            "250/250 [==============================] - 129s 515ms/step - loss: 0.3747 - accuracy: 0.8750 - val_loss: 1.5997 - val_accuracy: 0.5721\n",
            "Epoch 15: early stopping\n"
          ]
        },
        {
          "data": {
            "text/plain": [
              "<keras.callbacks.History at 0x7f6a45f3b4f0>"
            ]
          },
          "execution_count": 17,
          "metadata": {},
          "output_type": "execute_result"
        }
      ],
      "source": [
        "model.fit(X_train, Y_train_encoded, epochs=50, batch_size = 32,callbacks=[es, checkpoint], verbose=1, validation_data=(X_val, Y_val_encoded), shuffle=True)"
      ]
    },
    {
      "attachments": {},
      "cell_type": "markdown",
      "metadata": {},
      "source": [
        "The Loss and Accuracy of the trained model on the test set is given below - "
      ]
    },
    {
      "cell_type": "code",
      "execution_count": 18,
      "metadata": {
        "colab": {
          "base_uri": "https://localhost:8080/"
        },
        "id": "yo1AwWt_g98k",
        "outputId": "5ba3f729-f90b-42be-8b0a-d9f776b4be7f"
      },
      "outputs": [
        {
          "name": "stdout",
          "output_type": "stream",
          "text": [
            "82/82 [==============================] - 29s 347ms/step - loss: 1.0978 - accuracy: 0.6337\n",
            "Test loss: 1.0978416204452515\n",
            "Test accuracy: 0.6337164640426636\n"
          ]
        }
      ],
      "source": [
        "test_loss, test_acc = model.evaluate(x_test, y_test_encoded)\n",
        "print('Test loss:', test_loss)\n",
        "print('Test accuracy:', test_acc)"
      ]
    },
    {
      "attachments": {},
      "cell_type": "markdown",
      "metadata": {},
      "source": [
        "As we can see, the Text-only model using BERT performs significantly better than the Audio model using Mel-bin Spectrograms or MFCCs."
      ]
    },
    {
      "cell_type": "code",
      "execution_count": 19,
      "metadata": {
        "colab": {
          "base_uri": "https://localhost:8080/"
        },
        "id": "1eznYcTSvPgD",
        "outputId": "c5ece6c0-c2bd-4613-cd6b-34aa48b3d7c7"
      },
      "outputs": [
        {
          "name": "stdout",
          "output_type": "stream",
          "text": [
            "82/82 [==============================] - 29s 336ms/step\n"
          ]
        }
      ],
      "source": [
        "y_pred = model.predict(x_test)\n",
        "y_pred = np.argmax(y_pred, axis=1)"
      ]
    },
    {
      "cell_type": "code",
      "execution_count": 21,
      "metadata": {
        "id": "0GLDiA60vjLL"
      },
      "outputs": [],
      "source": [
        "y_test_encoded = np.argmax(y_test_encoded, axis=1)"
      ]
    },
    {
      "cell_type": "code",
      "execution_count": 22,
      "metadata": {
        "colab": {
          "base_uri": "https://localhost:8080/"
        },
        "id": "KYkAs5WMvqE5",
        "outputId": "bd9c630c-7b92-4484-c5e0-e8425ed1e95c"
      },
      "outputs": [
        {
          "name": "stdout",
          "output_type": "stream",
          "text": [
            "              precision    recall  f1-score   support\n",
            "\n",
            "       anger       0.51      0.37      0.43       345\n",
            "     disgust       0.25      0.04      0.07        68\n",
            "        fear       0.00      0.00      0.00        50\n",
            "         joy       0.56      0.57      0.57       402\n",
            "     neutral       0.70      0.89      0.78      1256\n",
            "     sadness       0.42      0.15      0.23       208\n",
            "    surprise       0.55      0.49      0.52       281\n",
            "\n",
            "    accuracy                           0.63      2610\n",
            "   macro avg       0.43      0.36      0.37      2610\n",
            "weighted avg       0.59      0.63      0.60      2610\n",
            "\n"
          ]
        }
      ],
      "source": [
        "print(classification_report(y_test_encoded, y_pred, target_names=class_names_encoded))"
      ]
    },
    {
      "cell_type": "code",
      "execution_count": 23,
      "metadata": {
        "colab": {
          "base_uri": "https://localhost:8080/",
          "height": 612
        },
        "id": "ttC0fljhv-tO",
        "outputId": "e65de65b-25f4-49ea-c85b-b7c9f21808be"
      },
      "outputs": [
        {
          "data": {
            "image/png": "[encoded data removed]",
            "text/plain": [
              "<Figure size 600x600 with 2 Axes>"
            ]
          },
          "metadata": {},
          "output_type": "display_data"
        }
      ],
      "source": [
        "cm = confusion_matrix(y_test_encoded, y_pred)\n",
        "cr = ClassificationReport()\n",
        "cr.plot_confusion_matrix(cm=cm, normalize = False, target_names = class_names_encoded)"
      ]
    }
  ],
  "metadata": {
    "accelerator": "GPU",
    "colab": {
      "gpuType": "T4",
      "provenance": []
    },
    "gpuClass": "standard",
    "kernelspec": {
      "display_name": "Python 3",
      "name": "python3"
    },
    "language_info": {
      "codemirror_mode": {
        "name": "ipython",
        "version": 3
      },
      "file_extension": ".py",
      "mimetype": "text/x-python",
      "name": "python",
      "nbconvert_exporter": "python",
      "pygments_lexer": "ipython3",
      "version": "3.10.11"
    }
  },
  "nbformat": 4,
  "nbformat_minor": 0
}
