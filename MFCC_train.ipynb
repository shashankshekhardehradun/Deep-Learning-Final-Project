{
  "cells": [
    {
      "attachments": {},
      "cell_type": "markdown",
      "metadata": {},
      "source": [
        "# Training on Audio-only MFCC features"
      ]
    },
    {
      "cell_type": "code",
      "execution_count": 1,
      "metadata": {
        "id": "sZH5HsctfAPF"
      },
      "outputs": [],
      "source": [
        "import warnings\n",
        "warnings.filterwarnings('ignore')"
      ]
    },
    {
      "cell_type": "code",
      "execution_count": 2,
      "metadata": {
        "colab": {
          "base_uri": "https://localhost:8080/"
        },
        "id": "Juz-3CfAfEub",
        "outputId": "83419669-c889-4c2d-96ca-59910caadce2"
      },
      "outputs": [
        {
          "name": "stdout",
          "output_type": "stream",
          "text": [
            "Mounted at /content/drive\n"
          ]
        }
      ],
      "source": [
        "from google.colab import drive\n",
        "drive.mount('/content/drive')"
      ]
    },
    {
      "cell_type": "code",
      "execution_count": 5,
      "metadata": {
        "id": "B3O2-s7hfAPH"
      },
      "outputs": [],
      "source": [
        "import numpy as np\n",
        "import pandas as pd\n",
        "from sklearn.preprocessing import LabelEncoder\n",
        "from sklearn.metrics import accuracy_score, confusion_matrix, classification_report, f1_score\n",
        "\n",
        "import tensorflow as tf\n",
        "from tensorflow import keras\n",
        "from tensorflow.keras import backend as K\n",
        "from tensorflow.keras.optimizers import Adam\n",
        "from tensorflow.keras.models import Model\n",
        "from tensorflow.keras.layers import Input, Conv2D, BatchNormalization, MaxPooling2D, Dense, Dropout, Activation, Flatten\n",
        "from tensorflow.keras.callbacks import EarlyStopping, ModelCheckpoint\n",
        "import tensorflow.keras.models as models\n",
        "from tensorflow.keras.utils import to_categorical\n",
        "from classificationreport import ClassificationReport ## this is a python script provided in the directory\n",
        "\n",
        "import matplotlib.pyplot as plt; plt.rcdefaults()\n",
        "import matplotlib.pyplot as plt\n",
        "import matplotlib\n",
        "import subprocess\n",
        "import os\n",
        "import csv\n",
        "import statistics\n",
        "from sklearn.utils import resample\n",
        "\n"
      ]
    },
    {
      "attachments": {},
      "cell_type": "markdown",
      "metadata": {},
      "source": [
        "First, we import the saved MFCCs numpy train and test files and the full train and test dataframes to obtain the labels."
      ]
    },
    {
      "cell_type": "code",
      "execution_count": 6,
      "metadata": {
        "colab": {
          "base_uri": "https://localhost:8080/"
        },
        "id": "YN_nMnemfAPI",
        "outputId": "4b10eea2-8489-48c8-8bd9-0134ac67087d"
      },
      "outputs": [
        {
          "data": {
            "text/plain": [
              "((9988, 40, 107), (2610, 40, 107))"
            ]
          },
          "execution_count": 6,
          "metadata": {},
          "output_type": "execute_result"
        }
      ],
      "source": [
        "x_train_mfcc = np.load('/content/drive/MyDrive/emotion/train_mfccs.npy')\n",
        "x_test_mfcc = np.load('/content/drive/MyDrive/emotion/test_mfccs.npy')\n",
        "\n",
        "x_train_mfcc.shape, x_test_mfcc.shape"
      ]
    },
    {
      "cell_type": "code",
      "execution_count": 7,
      "metadata": {
        "colab": {
          "base_uri": "https://localhost:8080/"
        },
        "id": "xH7kwfmAfAPJ",
        "outputId": "5a72903c-77e0-45b9-9e03-1807edba768e"
      },
      "outputs": [
        {
          "data": {
            "text/plain": [
              "((9988, 11), (2610, 11))"
            ]
          },
          "execution_count": 7,
          "metadata": {},
          "output_type": "execute_result"
        }
      ],
      "source": [
        "train_df = pd.read_csv(\"/content/drive/MyDrive/emotion/train_sent_emo.csv\", encoding='latin1')\n",
        "test_df = pd.read_csv(\"/content/drive/MyDrive/emotion/test_sent_emo.csv\", encoding='latin1')\n",
        "\n",
        "train_df.shape, test_df.shape"
      ]
    },
    {
      "attachments": {},
      "cell_type": "markdown",
      "metadata": {},
      "source": [
        "The emotions are labeled by any of these seven emotions -- Anger, Disgust, Sadness, Joy, Neutral, Surprise and Fear. Machine learning models typically work with numerical data, so we need to do Label encoding which converts categorical labels into numeric values, allowing the model to process and learn from them."
      ]
    },
    {
      "cell_type": "code",
      "execution_count": 8,
      "metadata": {
        "id": "YBM9erNofAPJ"
      },
      "outputs": [],
      "source": [
        "le = LabelEncoder()\n",
        "\n",
        "train_df['emotion_encoded'] = le.fit_transform(train_df['Emotion'])\n",
        "test_df['emotion_encoded'] = le.transform(test_df['Emotion'])\n",
        "class_names_encoded = le.classes_\n",
        "\n",
        "y_train = train_df['Emotion']\n",
        "y_train_encoded = train_df['emotion_encoded']\n",
        "\n",
        "y_test = test_df['Emotion']\n",
        "y_test_encoded = test_df['emotion_encoded']"
      ]
    },
    {
      "attachments": {},
      "cell_type": "markdown",
      "metadata": {},
      "source": [
        "CNNs typically expect input data to have a specific shape that includes dimensions for the height, width, and channels of the input image. Hence, we expand the dimensions to match this required input shape."
      ]
    },
    {
      "cell_type": "code",
      "execution_count": 9,
      "metadata": {
        "id": "MMyQW_UxfAPK"
      },
      "outputs": [],
      "source": [
        "train_X = np.expand_dims(x_train_mfcc, -1)\n",
        "test_X = np.expand_dims(x_test_mfcc, -1)"
      ]
    },
    {
      "attachments": {},
      "cell_type": "markdown",
      "metadata": {},
      "source": [
        "Finally, we convert the encoded labels to one-hot encoding since we are dealing with a multiclass classification problem."
      ]
    },
    {
      "cell_type": "code",
      "execution_count": 10,
      "metadata": {
        "id": "HlR3ZLwhfAPK"
      },
      "outputs": [],
      "source": [
        "train_Y = to_categorical(np.array(y_train_encoded))\n",
        "test_Y = to_categorical(np.array(y_test_encoded))"
      ]
    },
    {
      "cell_type": "code",
      "execution_count": 11,
      "metadata": {
        "colab": {
          "base_uri": "https://localhost:8080/"
        },
        "id": "CEZdDCm2fAPK",
        "outputId": "eb37b048-befc-454e-b976-8df5f215e490"
      },
      "outputs": [
        {
          "data": {
            "text/plain": [
              "(7,)"
            ]
          },
          "execution_count": 11,
          "metadata": {},
          "output_type": "execute_result"
        }
      ],
      "source": [
        "class_names_encoded.shape"
      ]
    },
    {
      "cell_type": "code",
      "execution_count": 12,
      "metadata": {
        "colab": {
          "base_uri": "https://localhost:8080/"
        },
        "id": "_P_IsCstfAPL",
        "outputId": "22ad53a4-dc8b-4a5e-aafb-9f1500f59cf5"
      },
      "outputs": [
        {
          "data": {
            "text/plain": [
              "(40, 107, 1)"
            ]
          },
          "execution_count": 12,
          "metadata": {},
          "output_type": "execute_result"
        }
      ],
      "source": [
        "train_X[0].shape"
      ]
    },
    {
      "attachments": {},
      "cell_type": "markdown",
      "metadata": {},
      "source": [
        "The aim of extracting the mel-bin spectrograms and MFCCs is to convert an audio file into an image form and then use it as input in any image classification model.\n",
        "<br>\n",
        "The architecture of our model is given  - \n",
        "<br>\n",
        "We use several layers to extract features from the input image (image of features extracted from an audio segment) and make predictions. The layers include convolutional layers, batch normalization, activation functions (ReLU), max pooling, and dropout for regularization. These layers are repeated multiple times, gradually increasing the number of filters. The final layers include flattening the feature maps, fully connected dense layers, and dropout regularization. The output layer uses the softmax activation function since our task is a multiclass classification problem. "
      ]
    },
    {
      "cell_type": "code",
      "execution_count": 76,
      "metadata": {
        "colab": {
          "base_uri": "https://localhost:8080/"
        },
        "id": "vc9w7DGcfAPL",
        "outputId": "a39ee47b-8d6f-4872-8afd-3c369fdc130c"
      },
      "outputs": [
        {
          "name": "stdout",
          "output_type": "stream",
          "text": [
            "Model: \"model_7\"\n",
            "_________________________________________________________________\n",
            " Layer (type)                Output Shape              Param #   \n",
            "=================================================================\n",
            " input_9 (InputLayer)        [(None, 40, 107, 1)]      0         \n",
            "                                                                 \n",
            " conv2d_74 (Conv2D)          (None, 40, 107, 32)       1600      \n",
            "                                                                 \n",
            " batch_normalization_74 (Bat  (None, 40, 107, 32)      160       \n",
            " chNormalization)                                                \n",
            "                                                                 \n",
            " activation_70 (Activation)  (None, 40, 107, 32)       0         \n",
            "                                                                 \n",
            " max_pooling2d_22 (MaxPoolin  (None, 20, 53, 32)       0         \n",
            " g2D)                                                            \n",
            "                                                                 \n",
            " dropout_28 (Dropout)        (None, 20, 53, 32)        0         \n",
            "                                                                 \n",
            " conv2d_75 (Conv2D)          (None, 20, 53, 64)        100416    \n",
            "                                                                 \n",
            " batch_normalization_75 (Bat  (None, 20, 53, 64)       80        \n",
            " chNormalization)                                                \n",
            "                                                                 \n",
            " activation_71 (Activation)  (None, 20, 53, 64)        0         \n",
            "                                                                 \n",
            " max_pooling2d_23 (MaxPoolin  (None, 10, 26, 64)       0         \n",
            " g2D)                                                            \n",
            "                                                                 \n",
            " dropout_29 (Dropout)        (None, 10, 26, 64)        0         \n",
            "                                                                 \n",
            " conv2d_76 (Conv2D)          (None, 10, 26, 128)       401536    \n",
            "                                                                 \n",
            " batch_normalization_76 (Bat  (None, 10, 26, 128)      40        \n",
            " chNormalization)                                                \n",
            "                                                                 \n",
            " activation_72 (Activation)  (None, 10, 26, 128)       0         \n",
            "                                                                 \n",
            " max_pooling2d_24 (MaxPoolin  (None, 5, 13, 128)       0         \n",
            " g2D)                                                            \n",
            "                                                                 \n",
            " dropout_30 (Dropout)        (None, 5, 13, 128)        0         \n",
            "                                                                 \n",
            " conv2d_77 (Conv2D)          (None, 5, 13, 256)        1605888   \n",
            "                                                                 \n",
            " batch_normalization_77 (Bat  (None, 5, 13, 256)       20        \n",
            " chNormalization)                                                \n",
            "                                                                 \n",
            " activation_73 (Activation)  (None, 5, 13, 256)        0         \n",
            "                                                                 \n",
            " max_pooling2d_25 (MaxPoolin  (None, 2, 6, 256)        0         \n",
            " g2D)                                                            \n",
            "                                                                 \n",
            " dropout_31 (Dropout)        (None, 2, 6, 256)         0         \n",
            "                                                                 \n",
            " flatten_8 (Flatten)         (None, 3072)              0         \n",
            "                                                                 \n",
            " dense_15 (Dense)            (None, 100)               307300    \n",
            "                                                                 \n",
            " dropout_32 (Dropout)        (None, 100)               0         \n",
            "                                                                 \n",
            " dense_16 (Dense)            (None, 7)                 707       \n",
            "                                                                 \n",
            "=================================================================\n",
            "Total params: 2,417,747\n",
            "Trainable params: 2,417,597\n",
            "Non-trainable params: 150\n",
            "_________________________________________________________________\n",
            "None\n"
          ]
        }
      ],
      "source": [
        "inputLayer = Input(shape=train_X[0].shape)\n",
        "\n",
        "CONV = Conv2D(32, kernel_size=(7, 7), padding='same')(inputLayer)\n",
        "CONV = BatchNormalization(axis=1)(CONV)\n",
        "CONV = Activation('relu')(CONV)\n",
        "CONV = MaxPooling2D(pool_size=2)(CONV)\n",
        "CONV = Dropout(0.2)(CONV)\n",
        "\n",
        "CONV = Conv2D(64, kernel_size=(7, 7), padding='same')(CONV)\n",
        "CONV = BatchNormalization(axis=1)(CONV)\n",
        "CONV = Activation('relu')(CONV)\n",
        "CONV = MaxPooling2D(pool_size=2)(CONV)\n",
        "CONV = Dropout(0.20)(CONV)\n",
        "\n",
        "CONV = Conv2D(128, kernel_size=(7, 7), padding='same')(CONV)\n",
        "CONV = BatchNormalization(axis=1)(CONV)\n",
        "CONV = Activation('relu')(CONV)\n",
        "CONV = MaxPooling2D(pool_size=2)(CONV)\n",
        "CONV = Dropout(0.20)(CONV)\n",
        "\n",
        "CONV = Conv2D(256, kernel_size=(7, 7), padding='same')(CONV)\n",
        "CONV = BatchNormalization(axis=1)(CONV)\n",
        "CONV = Activation('relu')(CONV)\n",
        "CONV = MaxPooling2D(pool_size=2)(CONV)\n",
        "CONV = Dropout(0.20)(CONV)\n",
        "\n",
        "FLATTEN = Flatten()(CONV)\n",
        "DENSE = Dense(100, activation='relu')(FLATTEN)\n",
        "DROPOUT = Dropout(0.20)(DENSE)\n",
        "    \n",
        "outputLayer = Dense(7, activation='softmax')(DROPOUT)\n",
        "\n",
        "classification_model = Model(inputLayer, outputLayer)\n",
        "\n",
        "print(classification_model.summary())\n",
        "\n",
        "classification_model.compile(loss='categorical_crossentropy', \n",
        "              optimizer=Adam(learning_rate=0.0001), \n",
        "              metrics=['accuracy']) "
      ]
    },
    {
      "cell_type": "code",
      "execution_count": 77,
      "metadata": {
        "id": "zQ_Q-k7nfAPL"
      },
      "outputs": [],
      "source": [
        "tf.config.run_functions_eagerly(True)"
      ]
    },
    {
      "attachments": {},
      "cell_type": "markdown",
      "metadata": {},
      "source": [
        "Since the zip file of the validation set provided with the MELD dataset was corrupted, we created our own validation split from the train data."
      ]
    },
    {
      "cell_type": "code",
      "execution_count": 78,
      "metadata": {
        "id": "oYiOfvGNfAPM"
      },
      "outputs": [],
      "source": [
        "from sklearn.model_selection import train_test_split\n",
        "\n",
        "X_train, X_valid, Y_train, Y_valid = train_test_split(train_X, train_Y, test_size=0.2, random_state=42)"
      ]
    },
    {
      "cell_type": "code",
      "execution_count": 79,
      "metadata": {
        "id": "C9QfRC19fAPM"
      },
      "outputs": [],
      "source": [
        "type = 'speech_cnn_nodownsample'"
      ]
    },
    {
      "attachments": {},
      "cell_type": "markdown",
      "metadata": {},
      "source": [
        "We use checkpoints and early stopping to ensure that the model stops training before it starts to overfit on the training data."
      ]
    },
    {
      "cell_type": "code",
      "execution_count": 80,
      "metadata": {
        "id": "U1Y3TEEpfAPM"
      },
      "outputs": [],
      "source": [
        "checkpoint = ModelCheckpoint(type + '.h5', monitor='val_accuracy',verbose=1, save_best_only=True)\n",
        "es = EarlyStopping(monitor = \"val_accuracy\", min_delta = 0.01, patience=10, mode = \"max\", restore_best_weights = True, verbose=1)"
      ]
    },
    {
      "cell_type": "code",
      "execution_count": 81,
      "metadata": {
        "colab": {
          "base_uri": "https://localhost:8080/"
        },
        "id": "CBqv_k3lfAPM",
        "outputId": "233b0401-e2ea-4e52-9012-83757453df59"
      },
      "outputs": [
        {
          "name": "stdout",
          "output_type": "stream",
          "text": [
            "Epoch 1/100\n",
            "250/250 [==============================] - ETA: 0s - loss: 1.6403 - accuracy: 0.4433\n",
            "Epoch 1: val_accuracy improved from -inf to 0.46897, saving model to speech_cnn_nodownsample.h5\n",
            "250/250 [==============================] - 27s 106ms/step - loss: 1.6403 - accuracy: 0.4433 - val_loss: 1.5694 - val_accuracy: 0.4690\n",
            "Epoch 2/100\n",
            "250/250 [==============================] - ETA: 0s - loss: 1.5628 - accuracy: 0.4641\n",
            "Epoch 2: val_accuracy did not improve from 0.46897\n",
            "250/250 [==============================] - 26s 104ms/step - loss: 1.5628 - accuracy: 0.4641 - val_loss: 1.5336 - val_accuracy: 0.4690\n",
            "Epoch 3/100\n",
            "250/250 [==============================] - ETA: 0s - loss: 1.5549 - accuracy: 0.4675\n",
            "Epoch 3: val_accuracy improved from 0.46897 to 0.46947, saving model to speech_cnn_nodownsample.h5\n",
            "250/250 [==============================] - 26s 106ms/step - loss: 1.5549 - accuracy: 0.4675 - val_loss: 1.4916 - val_accuracy: 0.4695\n",
            "Epoch 4/100\n",
            "250/250 [==============================] - ETA: 0s - loss: 1.5398 - accuracy: 0.4698\n",
            "Epoch 4: val_accuracy improved from 0.46947 to 0.47097, saving model to speech_cnn_nodownsample.h5\n",
            "250/250 [==============================] - 26s 105ms/step - loss: 1.5398 - accuracy: 0.4698 - val_loss: 1.4971 - val_accuracy: 0.4710\n",
            "Epoch 5/100\n",
            "250/250 [==============================] - ETA: 0s - loss: 1.5397 - accuracy: 0.4715\n",
            "Epoch 5: val_accuracy did not improve from 0.47097\n",
            "250/250 [==============================] - 26s 104ms/step - loss: 1.5397 - accuracy: 0.4715 - val_loss: 1.4931 - val_accuracy: 0.4700\n",
            "Epoch 6/100\n",
            "250/250 [==============================] - ETA: 0s - loss: 1.5340 - accuracy: 0.4715\n",
            "Epoch 6: val_accuracy improved from 0.47097 to 0.47698, saving model to speech_cnn_nodownsample.h5\n",
            "250/250 [==============================] - 26s 105ms/step - loss: 1.5340 - accuracy: 0.4715 - val_loss: 1.5040 - val_accuracy: 0.4770\n",
            "Epoch 7/100\n",
            "250/250 [==============================] - ETA: 0s - loss: 1.5219 - accuracy: 0.4716\n",
            "Epoch 7: val_accuracy did not improve from 0.47698\n",
            "250/250 [==============================] - 27s 109ms/step - loss: 1.5219 - accuracy: 0.4716 - val_loss: 1.4915 - val_accuracy: 0.4695\n",
            "Epoch 8/100\n",
            "250/250 [==============================] - ETA: 0s - loss: 1.5235 - accuracy: 0.4732\n",
            "Epoch 8: val_accuracy did not improve from 0.47698\n",
            "250/250 [==============================] - 26s 104ms/step - loss: 1.5235 - accuracy: 0.4732 - val_loss: 1.5110 - val_accuracy: 0.4710\n",
            "Epoch 9/100\n",
            "250/250 [==============================] - ETA: 0s - loss: 1.5200 - accuracy: 0.4726\n",
            "Epoch 9: val_accuracy did not improve from 0.47698\n",
            "250/250 [==============================] - 26s 104ms/step - loss: 1.5200 - accuracy: 0.4726 - val_loss: 1.4829 - val_accuracy: 0.4755\n",
            "Epoch 10/100\n",
            "250/250 [==============================] - ETA: 0s - loss: 1.5151 - accuracy: 0.4740\n",
            "Epoch 10: val_accuracy did not improve from 0.47698\n",
            "250/250 [==============================] - 26s 104ms/step - loss: 1.5151 - accuracy: 0.4740 - val_loss: 1.4881 - val_accuracy: 0.4755\n",
            "Epoch 11/100\n",
            "250/250 [==============================] - ETA: 0s - loss: 1.5073 - accuracy: 0.4747Restoring model weights from the end of the best epoch: 1.\n",
            "\n",
            "Epoch 11: val_accuracy did not improve from 0.47698\n",
            "250/250 [==============================] - 27s 109ms/step - loss: 1.5073 - accuracy: 0.4747 - val_loss: 1.4816 - val_accuracy: 0.4765\n",
            "Epoch 11: early stopping\n"
          ]
        }
      ],
      "source": [
        "model = classification_model.fit(X_train, Y_train, batch_size=32, epochs=100, callbacks=[es, checkpoint],\n",
        "                                verbose=1, validation_data=(X_valid, Y_valid), shuffle=True)"
      ]
    },
    {
      "attachments": {},
      "cell_type": "markdown",
      "metadata": {},
      "source": [
        "The Loss and Accuracy of the trained model on the test set is given below - "
      ]
    },
    {
      "cell_type": "code",
      "execution_count": null,
      "metadata": {},
      "outputs": [
        {
          "name": "stdout",
          "output_type": "stream",
          "text": [
            "82/82 [==============================] - 2s 27ms/step - loss: 1.5671 - accuracy: 0.4862\n",
            "Test loss: 1.5670850276947021\n",
            "Test accuracy: 0.48620688915252686\n"
          ]
        }
      ],
      "source": [
        "test_loss, test_acc = model.evaluate(test_X, test_Y)\n",
        "print('Test loss:', test_loss)\n",
        "print('Test accuracy:', test_acc)"
      ]
    },
    {
      "cell_type": "code",
      "execution_count": null,
      "metadata": {},
      "outputs": [
        {
          "name": "stdout",
          "output_type": "stream",
          "text": [
            "82/82 [==============================] - 1s 15ms/step\n"
          ]
        }
      ],
      "source": [
        "y_pred = model.predict(test_X)\n",
        "y_pred = np.argmax(y_pred, axis=1)"
      ]
    },
    {
      "cell_type": "code",
      "execution_count": null,
      "metadata": {},
      "outputs": [],
      "source": [
        "y_test_encoded = np.argmax(test_Y, axis=1)"
      ]
    },
    {
      "cell_type": "code",
      "execution_count": null,
      "metadata": {},
      "outputs": [
        {
          "name": "stdout",
          "output_type": "stream",
          "text": [
            "              precision    recall  f1-score   support\n",
            "\n",
            "       anger       0.32      0.18      0.23       345\n",
            "     disgust       0.00      0.00      0.00        68\n",
            "        fear       0.00      0.00      0.00        50\n",
            "         joy       0.24      0.01      0.02       402\n",
            "     neutral       0.51      0.94      0.66      1256\n",
            "     sadness       0.33      0.01      0.03       208\n",
            "    surprise       0.30      0.08      0.12       281\n",
            "\n",
            "    accuracy                           0.49      2610\n",
            "   macro avg       0.24      0.17      0.15      2610\n",
            "weighted avg       0.38      0.49      0.37      2610\n",
            "\n"
          ]
        }
      ],
      "source": [
        "print(classification_report(y_test_encoded, y_pred, target_names=class_names_encoded))"
      ]
    },
    {
      "attachments": {},
      "cell_type": "markdown",
      "metadata": {},
      "source": [
        "Since the support of 'neutral' utterences are overwhelmingly high, the model misclassifes most of the other classes as 'neutral'."
      ]
    },
    {
      "cell_type": "code",
      "execution_count": null,
      "metadata": {},
      "outputs": [
        {
          "data": {
            "image/png": "[encoded data removed]",
            "text/plain": [
              "<Figure size 600x600 with 2 Axes>"
            ]
          },
          "metadata": {},
          "output_type": "display_data"
        }
      ],
      "source": [
        "cm = confusion_matrix(y_test_encoded, y_pred)\n",
        "cr = ClassificationReport()\n",
        "cr.plot_confusion_matrix(cm=cm, normalize = False, target_names = class_names_encoded)"
      ]
    },
    {
      "attachments": {},
      "cell_type": "markdown",
      "metadata": {},
      "source": [
        "## Prediction using ResNet50"
      ]
    },
    {
      "attachments": {},
      "cell_type": "markdown",
      "metadata": {},
      "source": [
        "In an attempt to improve the model performance, we also experimented with the ResNet50 model for our audio features."
      ]
    },
    {
      "cell_type": "code",
      "execution_count": 14,
      "metadata": {
        "id": "CwSnHSgffAPO"
      },
      "outputs": [],
      "source": [
        "from tensorflow.keras.layers import Input, Conv2D, MaxPooling2D, ZeroPadding2D,\\\n",
        "     Flatten, BatchNormalization, AveragePooling2D, Dense, Activation, Add \n",
        "from tensorflow.keras.models import Model\n",
        "from tensorflow.keras import activations\n",
        "from tensorflow.keras.optimizers import Adam\n",
        "from tensorflow.keras.callbacks import EarlyStopping\n",
        "from tensorflow.keras.regularizers import l2\n",
        "     "
      ]
    },
    {
      "cell_type": "code",
      "execution_count": 15,
      "metadata": {
        "id": "QYFkIIXCfAPO"
      },
      "outputs": [],
      "source": [
        "def res_identity(x, filters): \n",
        "  x_skip = x \n",
        "  f1, f2 = filters\n",
        "\n",
        "  x = Conv2D(f1, kernel_size=(1, 1), strides=(1, 1), padding='valid', kernel_regularizer=l2(0.001))(x)\n",
        "  x = BatchNormalization()(x)\n",
        "  x = Activation(activations.relu)(x)\n",
        "\n",
        "  x = Conv2D(f1, kernel_size=(3, 3), strides=(1, 1), padding='same', kernel_regularizer=l2(0.001))(x)\n",
        "  x = BatchNormalization()(x)\n",
        "  x = Activation(activations.relu)(x)\n",
        "\n",
        "  x = Conv2D(f2, kernel_size=(1, 1), strides=(1, 1), padding='valid', kernel_regularizer=l2(0.001))(x)\n",
        "  x = BatchNormalization()(x)\n",
        "\n",
        "  x = Add()([x, x_skip])\n",
        "  x = Activation(activations.relu)(x)\n",
        "\n",
        "  return x"
      ]
    },
    {
      "cell_type": "code",
      "execution_count": 16,
      "metadata": {
        "id": "Fbu6MVCIfAPP"
      },
      "outputs": [],
      "source": [
        "def res_conv(x, s, filters):\n",
        "  x_skip = x\n",
        "  f1, f2 = filters\n",
        "\n",
        "  x = Conv2D(f1, kernel_size=(1, 1), strides=(s, s), padding='valid', kernel_regularizer=l2(0.001))(x)\n",
        "  x = BatchNormalization()(x)\n",
        "  x = Activation(activations.relu)(x)\n",
        "\n",
        "  x = Conv2D(f1, kernel_size=(3, 3), strides=(1, 1), padding='same', kernel_regularizer=l2(0.001))(x)\n",
        "  x = BatchNormalization()(x)\n",
        "  x = Activation(activations.relu)(x)\n",
        "\n",
        "  x = Conv2D(f2, kernel_size=(1, 1), strides=(1, 1), padding='valid', kernel_regularizer=l2(0.001))(x)\n",
        "  x = BatchNormalization()(x)\n",
        "\n",
        "  x_skip = Conv2D(f2, kernel_size=(1, 1), strides=(s, s), padding='valid', kernel_regularizer=l2(0.001))(x_skip)\n",
        "  x_skip = BatchNormalization()(x_skip)\n",
        "\n",
        "  x = Add()([x, x_skip])\n",
        "  x = Activation(activations.relu)(x)\n",
        "\n",
        "  return x"
      ]
    },
    {
      "cell_type": "code",
      "execution_count": 17,
      "metadata": {
        "id": "pJIiXxY1fAPP"
      },
      "outputs": [],
      "source": [
        "def resnet50():\n",
        "\n",
        "  input_im = Input(shape=(train_X.shape[1], train_X.shape[2], train_X.shape[3])) # cifar 10 images size\n",
        "  x = ZeroPadding2D(padding=(3, 3))(input_im)\n",
        "\n",
        "  x = Conv2D(64, kernel_size=(7, 7), strides=(2, 2))(x)\n",
        "  x = BatchNormalization()(x)\n",
        "  x = Activation(activations.relu)(x)\n",
        "  x = MaxPooling2D((3, 3), strides=(2, 2))(x)\n",
        "\n",
        "  x = res_conv(x, s=1, filters=(64, 256))\n",
        "  x = res_identity(x, filters=(64, 256))\n",
        "  x = res_identity(x, filters=(64, 256))\n",
        "\n",
        "  x = res_conv(x, s=2, filters=(128, 512))\n",
        "  x = res_identity(x, filters=(128, 512))\n",
        "  x = res_identity(x, filters=(128, 512))\n",
        "  x = res_identity(x, filters=(128, 512))\n",
        "\n",
        "  x = res_conv(x, s=2, filters=(256, 1024))\n",
        "  x = res_identity(x, filters=(256, 1024))\n",
        "  x = res_identity(x, filters=(256, 1024))\n",
        "  x = res_identity(x, filters=(256, 1024))\n",
        "  x = res_identity(x, filters=(256, 1024))\n",
        "  x = res_identity(x, filters=(256, 1024))\n",
        "\n",
        "  x = res_conv(x, s=2, filters=(512, 2048))\n",
        "  x = res_identity(x, filters=(512, 2048))\n",
        "  x = res_identity(x, filters=(512, 2048))\n",
        "\n",
        "  x = AveragePooling2D((2, 2), padding='same')(x)\n",
        "\n",
        "  x = Flatten()(x)\n",
        "  x = Dense(7, activation='softmax', kernel_initializer='he_normal')(x) \n",
        "\n",
        "  model = Model(inputs=input_im, outputs=x, name='Resnet50')\n",
        "\n",
        "  return model"
      ]
    },
    {
      "cell_type": "code",
      "execution_count": 18,
      "metadata": {
        "id": "e7vH_YHJfAPP"
      },
      "outputs": [],
      "source": [
        "resnet50_model = resnet50()\n"
      ]
    },
    {
      "attachments": {},
      "cell_type": "markdown",
      "metadata": {},
      "source": [
        "The summary of the ResNet50 architecture used is given below - "
      ]
    },
    {
      "cell_type": "code",
      "execution_count": 19,
      "metadata": {
        "colab": {
          "base_uri": "https://localhost:8080/"
        },
        "id": "khR2tGgQfAPP",
        "outputId": "d9edf401-8aef-4a05-e352-450157981d85"
      },
      "outputs": [
        {
          "name": "stdout",
          "output_type": "stream",
          "text": [
            "Model: \"Resnet50\"\n",
            "__________________________________________________________________________________________________\n",
            " Layer (type)                   Output Shape         Param #     Connected to                     \n",
            "==================================================================================================\n",
            " input_2 (InputLayer)           [(None, 40, 107, 1)  0           []                               \n",
            "                                ]                                                                 \n",
            "                                                                                                  \n",
            " zero_padding2d (ZeroPadding2D)  (None, 46, 113, 1)  0           ['input_2[0][0]']                \n",
            "                                                                                                  \n",
            " conv2d_3 (Conv2D)              (None, 20, 54, 64)   3200        ['zero_padding2d[0][0]']         \n",
            "                                                                                                  \n",
            " batch_normalization_3 (BatchNo  (None, 20, 54, 64)  256         ['conv2d_3[0][0]']               \n",
            " rmalization)                                                                                     \n",
            "                                                                                                  \n",
            " activation_3 (Activation)      (None, 20, 54, 64)   0           ['batch_normalization_3[0][0]']  \n",
            "                                                                                                  \n",
            " max_pooling2d_3 (MaxPooling2D)  (None, 9, 26, 64)   0           ['activation_3[0][0]']           \n",
            "                                                                                                  \n",
            " conv2d_4 (Conv2D)              (None, 9, 26, 64)    4160        ['max_pooling2d_3[0][0]']        \n",
            "                                                                                                  \n",
            " batch_normalization_4 (BatchNo  (None, 9, 26, 64)   256         ['conv2d_4[0][0]']               \n",
            " rmalization)                                                                                     \n",
            "                                                                                                  \n",
            " activation_4 (Activation)      (None, 9, 26, 64)    0           ['batch_normalization_4[0][0]']  \n",
            "                                                                                                  \n",
            " conv2d_5 (Conv2D)              (None, 9, 26, 64)    36928       ['activation_4[0][0]']           \n",
            "                                                                                                  \n",
            " batch_normalization_5 (BatchNo  (None, 9, 26, 64)   256         ['conv2d_5[0][0]']               \n",
            " rmalization)                                                                                     \n",
            "                                                                                                  \n",
            " activation_5 (Activation)      (None, 9, 26, 64)    0           ['batch_normalization_5[0][0]']  \n",
            "                                                                                                  \n",
            " conv2d_6 (Conv2D)              (None, 9, 26, 256)   16640       ['activation_5[0][0]']           \n",
            "                                                                                                  \n",
            " conv2d_7 (Conv2D)              (None, 9, 26, 256)   16640       ['max_pooling2d_3[0][0]']        \n",
            "                                                                                                  \n",
            " batch_normalization_6 (BatchNo  (None, 9, 26, 256)  1024        ['conv2d_6[0][0]']               \n",
            " rmalization)                                                                                     \n",
            "                                                                                                  \n",
            " batch_normalization_7 (BatchNo  (None, 9, 26, 256)  1024        ['conv2d_7[0][0]']               \n",
            " rmalization)                                                                                     \n",
            "                                                                                                  \n",
            " add (Add)                      (None, 9, 26, 256)   0           ['batch_normalization_6[0][0]',  \n",
            "                                                                  'batch_normalization_7[0][0]']  \n",
            "                                                                                                  \n",
            " activation_6 (Activation)      (None, 9, 26, 256)   0           ['add[0][0]']                    \n",
            "                                                                                                  \n",
            " conv2d_8 (Conv2D)              (None, 9, 26, 64)    16448       ['activation_6[0][0]']           \n",
            "                                                                                                  \n",
            " batch_normalization_8 (BatchNo  (None, 9, 26, 64)   256         ['conv2d_8[0][0]']               \n",
            " rmalization)                                                                                     \n",
            "                                                                                                  \n",
            " activation_7 (Activation)      (None, 9, 26, 64)    0           ['batch_normalization_8[0][0]']  \n",
            "                                                                                                  \n",
            " conv2d_9 (Conv2D)              (None, 9, 26, 64)    36928       ['activation_7[0][0]']           \n",
            "                                                                                                  \n",
            " batch_normalization_9 (BatchNo  (None, 9, 26, 64)   256         ['conv2d_9[0][0]']               \n",
            " rmalization)                                                                                     \n",
            "                                                                                                  \n",
            " activation_8 (Activation)      (None, 9, 26, 64)    0           ['batch_normalization_9[0][0]']  \n",
            "                                                                                                  \n",
            " conv2d_10 (Conv2D)             (None, 9, 26, 256)   16640       ['activation_8[0][0]']           \n",
            "                                                                                                  \n",
            " batch_normalization_10 (BatchN  (None, 9, 26, 256)  1024        ['conv2d_10[0][0]']              \n",
            " ormalization)                                                                                    \n",
            "                                                                                                  \n",
            " add_1 (Add)                    (None, 9, 26, 256)   0           ['batch_normalization_10[0][0]', \n",
            "                                                                  'activation_6[0][0]']           \n",
            "                                                                                                  \n",
            " activation_9 (Activation)      (None, 9, 26, 256)   0           ['add_1[0][0]']                  \n",
            "                                                                                                  \n",
            " conv2d_11 (Conv2D)             (None, 9, 26, 64)    16448       ['activation_9[0][0]']           \n",
            "                                                                                                  \n",
            " batch_normalization_11 (BatchN  (None, 9, 26, 64)   256         ['conv2d_11[0][0]']              \n",
            " ormalization)                                                                                    \n",
            "                                                                                                  \n",
            " activation_10 (Activation)     (None, 9, 26, 64)    0           ['batch_normalization_11[0][0]'] \n",
            "                                                                                                  \n",
            " conv2d_12 (Conv2D)             (None, 9, 26, 64)    36928       ['activation_10[0][0]']          \n",
            "                                                                                                  \n",
            " batch_normalization_12 (BatchN  (None, 9, 26, 64)   256         ['conv2d_12[0][0]']              \n",
            " ormalization)                                                                                    \n",
            "                                                                                                  \n",
            " activation_11 (Activation)     (None, 9, 26, 64)    0           ['batch_normalization_12[0][0]'] \n",
            "                                                                                                  \n",
            " conv2d_13 (Conv2D)             (None, 9, 26, 256)   16640       ['activation_11[0][0]']          \n",
            "                                                                                                  \n",
            " batch_normalization_13 (BatchN  (None, 9, 26, 256)  1024        ['conv2d_13[0][0]']              \n",
            " ormalization)                                                                                    \n",
            "                                                                                                  \n",
            " add_2 (Add)                    (None, 9, 26, 256)   0           ['batch_normalization_13[0][0]', \n",
            "                                                                  'activation_9[0][0]']           \n",
            "                                                                                                  \n",
            " activation_12 (Activation)     (None, 9, 26, 256)   0           ['add_2[0][0]']                  \n",
            "                                                                                                  \n",
            " conv2d_14 (Conv2D)             (None, 5, 13, 128)   32896       ['activation_12[0][0]']          \n",
            "                                                                                                  \n",
            " batch_normalization_14 (BatchN  (None, 5, 13, 128)  512         ['conv2d_14[0][0]']              \n",
            " ormalization)                                                                                    \n",
            "                                                                                                  \n",
            " activation_13 (Activation)     (None, 5, 13, 128)   0           ['batch_normalization_14[0][0]'] \n",
            "                                                                                                  \n",
            " conv2d_15 (Conv2D)             (None, 5, 13, 128)   147584      ['activation_13[0][0]']          \n",
            "                                                                                                  \n",
            " batch_normalization_15 (BatchN  (None, 5, 13, 128)  512         ['conv2d_15[0][0]']              \n",
            " ormalization)                                                                                    \n",
            "                                                                                                  \n",
            " activation_14 (Activation)     (None, 5, 13, 128)   0           ['batch_normalization_15[0][0]'] \n",
            "                                                                                                  \n",
            " conv2d_16 (Conv2D)             (None, 5, 13, 512)   66048       ['activation_14[0][0]']          \n",
            "                                                                                                  \n",
            " conv2d_17 (Conv2D)             (None, 5, 13, 512)   131584      ['activation_12[0][0]']          \n",
            "                                                                                                  \n",
            " batch_normalization_16 (BatchN  (None, 5, 13, 512)  2048        ['conv2d_16[0][0]']              \n",
            " ormalization)                                                                                    \n",
            "                                                                                                  \n",
            " batch_normalization_17 (BatchN  (None, 5, 13, 512)  2048        ['conv2d_17[0][0]']              \n",
            " ormalization)                                                                                    \n",
            "                                                                                                  \n",
            " add_3 (Add)                    (None, 5, 13, 512)   0           ['batch_normalization_16[0][0]', \n",
            "                                                                  'batch_normalization_17[0][0]'] \n",
            "                                                                                                  \n",
            " activation_15 (Activation)     (None, 5, 13, 512)   0           ['add_3[0][0]']                  \n",
            "                                                                                                  \n",
            " conv2d_18 (Conv2D)             (None, 5, 13, 128)   65664       ['activation_15[0][0]']          \n",
            "                                                                                                  \n",
            " batch_normalization_18 (BatchN  (None, 5, 13, 128)  512         ['conv2d_18[0][0]']              \n",
            " ormalization)                                                                                    \n",
            "                                                                                                  \n",
            " activation_16 (Activation)     (None, 5, 13, 128)   0           ['batch_normalization_18[0][0]'] \n",
            "                                                                                                  \n",
            " conv2d_19 (Conv2D)             (None, 5, 13, 128)   147584      ['activation_16[0][0]']          \n",
            "                                                                                                  \n",
            " batch_normalization_19 (BatchN  (None, 5, 13, 128)  512         ['conv2d_19[0][0]']              \n",
            " ormalization)                                                                                    \n",
            "                                                                                                  \n",
            " activation_17 (Activation)     (None, 5, 13, 128)   0           ['batch_normalization_19[0][0]'] \n",
            "                                                                                                  \n",
            " conv2d_20 (Conv2D)             (None, 5, 13, 512)   66048       ['activation_17[0][0]']          \n",
            "                                                                                                  \n",
            " batch_normalization_20 (BatchN  (None, 5, 13, 512)  2048        ['conv2d_20[0][0]']              \n",
            " ormalization)                                                                                    \n",
            "                                                                                                  \n",
            " add_4 (Add)                    (None, 5, 13, 512)   0           ['batch_normalization_20[0][0]', \n",
            "                                                                  'activation_15[0][0]']          \n",
            "                                                                                                  \n",
            " activation_18 (Activation)     (None, 5, 13, 512)   0           ['add_4[0][0]']                  \n",
            "                                                                                                  \n",
            " conv2d_21 (Conv2D)             (None, 5, 13, 128)   65664       ['activation_18[0][0]']          \n",
            "                                                                                                  \n",
            " batch_normalization_21 (BatchN  (None, 5, 13, 128)  512         ['conv2d_21[0][0]']              \n",
            " ormalization)                                                                                    \n",
            "                                                                                                  \n",
            " activation_19 (Activation)     (None, 5, 13, 128)   0           ['batch_normalization_21[0][0]'] \n",
            "                                                                                                  \n",
            " conv2d_22 (Conv2D)             (None, 5, 13, 128)   147584      ['activation_19[0][0]']          \n",
            "                                                                                                  \n",
            " batch_normalization_22 (BatchN  (None, 5, 13, 128)  512         ['conv2d_22[0][0]']              \n",
            " ormalization)                                                                                    \n",
            "                                                                                                  \n",
            " activation_20 (Activation)     (None, 5, 13, 128)   0           ['batch_normalization_22[0][0]'] \n",
            "                                                                                                  \n",
            " conv2d_23 (Conv2D)             (None, 5, 13, 512)   66048       ['activation_20[0][0]']          \n",
            "                                                                                                  \n",
            " batch_normalization_23 (BatchN  (None, 5, 13, 512)  2048        ['conv2d_23[0][0]']              \n",
            " ormalization)                                                                                    \n",
            "                                                                                                  \n",
            " add_5 (Add)                    (None, 5, 13, 512)   0           ['batch_normalization_23[0][0]', \n",
            "                                                                  'activation_18[0][0]']          \n",
            "                                                                                                  \n",
            " activation_21 (Activation)     (None, 5, 13, 512)   0           ['add_5[0][0]']                  \n",
            "                                                                                                  \n",
            " conv2d_24 (Conv2D)             (None, 5, 13, 128)   65664       ['activation_21[0][0]']          \n",
            "                                                                                                  \n",
            " batch_normalization_24 (BatchN  (None, 5, 13, 128)  512         ['conv2d_24[0][0]']              \n",
            " ormalization)                                                                                    \n",
            "                                                                                                  \n",
            " activation_22 (Activation)     (None, 5, 13, 128)   0           ['batch_normalization_24[0][0]'] \n",
            "                                                                                                  \n",
            " conv2d_25 (Conv2D)             (None, 5, 13, 128)   147584      ['activation_22[0][0]']          \n",
            "                                                                                                  \n",
            " batch_normalization_25 (BatchN  (None, 5, 13, 128)  512         ['conv2d_25[0][0]']              \n",
            " ormalization)                                                                                    \n",
            "                                                                                                  \n",
            " activation_23 (Activation)     (None, 5, 13, 128)   0           ['batch_normalization_25[0][0]'] \n",
            "                                                                                                  \n",
            " conv2d_26 (Conv2D)             (None, 5, 13, 512)   66048       ['activation_23[0][0]']          \n",
            "                                                                                                  \n",
            " batch_normalization_26 (BatchN  (None, 5, 13, 512)  2048        ['conv2d_26[0][0]']              \n",
            " ormalization)                                                                                    \n",
            "                                                                                                  \n",
            " add_6 (Add)                    (None, 5, 13, 512)   0           ['batch_normalization_26[0][0]', \n",
            "                                                                  'activation_21[0][0]']          \n",
            "                                                                                                  \n",
            " activation_24 (Activation)     (None, 5, 13, 512)   0           ['add_6[0][0]']                  \n",
            "                                                                                                  \n",
            " conv2d_27 (Conv2D)             (None, 3, 7, 256)    131328      ['activation_24[0][0]']          \n",
            "                                                                                                  \n",
            " batch_normalization_27 (BatchN  (None, 3, 7, 256)   1024        ['conv2d_27[0][0]']              \n",
            " ormalization)                                                                                    \n",
            "                                                                                                  \n",
            " activation_25 (Activation)     (None, 3, 7, 256)    0           ['batch_normalization_27[0][0]'] \n",
            "                                                                                                  \n",
            " conv2d_28 (Conv2D)             (None, 3, 7, 256)    590080      ['activation_25[0][0]']          \n",
            "                                                                                                  \n",
            " batch_normalization_28 (BatchN  (None, 3, 7, 256)   1024        ['conv2d_28[0][0]']              \n",
            " ormalization)                                                                                    \n",
            "                                                                                                  \n",
            " activation_26 (Activation)     (None, 3, 7, 256)    0           ['batch_normalization_28[0][0]'] \n",
            "                                                                                                  \n",
            " conv2d_29 (Conv2D)             (None, 3, 7, 1024)   263168      ['activation_26[0][0]']          \n",
            "                                                                                                  \n",
            " conv2d_30 (Conv2D)             (None, 3, 7, 1024)   525312      ['activation_24[0][0]']          \n",
            "                                                                                                  \n",
            " batch_normalization_29 (BatchN  (None, 3, 7, 1024)  4096        ['conv2d_29[0][0]']              \n",
            " ormalization)                                                                                    \n",
            "                                                                                                  \n",
            " batch_normalization_30 (BatchN  (None, 3, 7, 1024)  4096        ['conv2d_30[0][0]']              \n",
            " ormalization)                                                                                    \n",
            "                                                                                                  \n",
            " add_7 (Add)                    (None, 3, 7, 1024)   0           ['batch_normalization_29[0][0]', \n",
            "                                                                  'batch_normalization_30[0][0]'] \n",
            "                                                                                                  \n",
            " activation_27 (Activation)     (None, 3, 7, 1024)   0           ['add_7[0][0]']                  \n",
            "                                                                                                  \n",
            " conv2d_31 (Conv2D)             (None, 3, 7, 256)    262400      ['activation_27[0][0]']          \n",
            "                                                                                                  \n",
            " batch_normalization_31 (BatchN  (None, 3, 7, 256)   1024        ['conv2d_31[0][0]']              \n",
            " ormalization)                                                                                    \n",
            "                                                                                                  \n",
            " activation_28 (Activation)     (None, 3, 7, 256)    0           ['batch_normalization_31[0][0]'] \n",
            "                                                                                                  \n",
            " conv2d_32 (Conv2D)             (None, 3, 7, 256)    590080      ['activation_28[0][0]']          \n",
            "                                                                                                  \n",
            " batch_normalization_32 (BatchN  (None, 3, 7, 256)   1024        ['conv2d_32[0][0]']              \n",
            " ormalization)                                                                                    \n",
            "                                                                                                  \n",
            " activation_29 (Activation)     (None, 3, 7, 256)    0           ['batch_normalization_32[0][0]'] \n",
            "                                                                                                  \n",
            " conv2d_33 (Conv2D)             (None, 3, 7, 1024)   263168      ['activation_29[0][0]']          \n",
            "                                                                                                  \n",
            " batch_normalization_33 (BatchN  (None, 3, 7, 1024)  4096        ['conv2d_33[0][0]']              \n",
            " ormalization)                                                                                    \n",
            "                                                                                                  \n",
            " add_8 (Add)                    (None, 3, 7, 1024)   0           ['batch_normalization_33[0][0]', \n",
            "                                                                  'activation_27[0][0]']          \n",
            "                                                                                                  \n",
            " activation_30 (Activation)     (None, 3, 7, 1024)   0           ['add_8[0][0]']                  \n",
            "                                                                                                  \n",
            " conv2d_34 (Conv2D)             (None, 3, 7, 256)    262400      ['activation_30[0][0]']          \n",
            "                                                                                                  \n",
            " batch_normalization_34 (BatchN  (None, 3, 7, 256)   1024        ['conv2d_34[0][0]']              \n",
            " ormalization)                                                                                    \n",
            "                                                                                                  \n",
            " activation_31 (Activation)     (None, 3, 7, 256)    0           ['batch_normalization_34[0][0]'] \n",
            "                                                                                                  \n",
            " conv2d_35 (Conv2D)             (None, 3, 7, 256)    590080      ['activation_31[0][0]']          \n",
            "                                                                                                  \n",
            " batch_normalization_35 (BatchN  (None, 3, 7, 256)   1024        ['conv2d_35[0][0]']              \n",
            " ormalization)                                                                                    \n",
            "                                                                                                  \n",
            " activation_32 (Activation)     (None, 3, 7, 256)    0           ['batch_normalization_35[0][0]'] \n",
            "                                                                                                  \n",
            " conv2d_36 (Conv2D)             (None, 3, 7, 1024)   263168      ['activation_32[0][0]']          \n",
            "                                                                                                  \n",
            " batch_normalization_36 (BatchN  (None, 3, 7, 1024)  4096        ['conv2d_36[0][0]']              \n",
            " ormalization)                                                                                    \n",
            "                                                                                                  \n",
            " add_9 (Add)                    (None, 3, 7, 1024)   0           ['batch_normalization_36[0][0]', \n",
            "                                                                  'activation_30[0][0]']          \n",
            "                                                                                                  \n",
            " activation_33 (Activation)     (None, 3, 7, 1024)   0           ['add_9[0][0]']                  \n",
            "                                                                                                  \n",
            " conv2d_37 (Conv2D)             (None, 3, 7, 256)    262400      ['activation_33[0][0]']          \n",
            "                                                                                                  \n",
            " batch_normalization_37 (BatchN  (None, 3, 7, 256)   1024        ['conv2d_37[0][0]']              \n",
            " ormalization)                                                                                    \n",
            "                                                                                                  \n",
            " activation_34 (Activation)     (None, 3, 7, 256)    0           ['batch_normalization_37[0][0]'] \n",
            "                                                                                                  \n",
            " conv2d_38 (Conv2D)             (None, 3, 7, 256)    590080      ['activation_34[0][0]']          \n",
            "                                                                                                  \n",
            " batch_normalization_38 (BatchN  (None, 3, 7, 256)   1024        ['conv2d_38[0][0]']              \n",
            " ormalization)                                                                                    \n",
            "                                                                                                  \n",
            " activation_35 (Activation)     (None, 3, 7, 256)    0           ['batch_normalization_38[0][0]'] \n",
            "                                                                                                  \n",
            " conv2d_39 (Conv2D)             (None, 3, 7, 1024)   263168      ['activation_35[0][0]']          \n",
            "                                                                                                  \n",
            " batch_normalization_39 (BatchN  (None, 3, 7, 1024)  4096        ['conv2d_39[0][0]']              \n",
            " ormalization)                                                                                    \n",
            "                                                                                                  \n",
            " add_10 (Add)                   (None, 3, 7, 1024)   0           ['batch_normalization_39[0][0]', \n",
            "                                                                  'activation_33[0][0]']          \n",
            "                                                                                                  \n",
            " activation_36 (Activation)     (None, 3, 7, 1024)   0           ['add_10[0][0]']                 \n",
            "                                                                                                  \n",
            " conv2d_40 (Conv2D)             (None, 3, 7, 256)    262400      ['activation_36[0][0]']          \n",
            "                                                                                                  \n",
            " batch_normalization_40 (BatchN  (None, 3, 7, 256)   1024        ['conv2d_40[0][0]']              \n",
            " ormalization)                                                                                    \n",
            "                                                                                                  \n",
            " activation_37 (Activation)     (None, 3, 7, 256)    0           ['batch_normalization_40[0][0]'] \n",
            "                                                                                                  \n",
            " conv2d_41 (Conv2D)             (None, 3, 7, 256)    590080      ['activation_37[0][0]']          \n",
            "                                                                                                  \n",
            " batch_normalization_41 (BatchN  (None, 3, 7, 256)   1024        ['conv2d_41[0][0]']              \n",
            " ormalization)                                                                                    \n",
            "                                                                                                  \n",
            " activation_38 (Activation)     (None, 3, 7, 256)    0           ['batch_normalization_41[0][0]'] \n",
            "                                                                                                  \n",
            " conv2d_42 (Conv2D)             (None, 3, 7, 1024)   263168      ['activation_38[0][0]']          \n",
            "                                                                                                  \n",
            " batch_normalization_42 (BatchN  (None, 3, 7, 1024)  4096        ['conv2d_42[0][0]']              \n",
            " ormalization)                                                                                    \n",
            "                                                                                                  \n",
            " add_11 (Add)                   (None, 3, 7, 1024)   0           ['batch_normalization_42[0][0]', \n",
            "                                                                  'activation_36[0][0]']          \n",
            "                                                                                                  \n",
            " activation_39 (Activation)     (None, 3, 7, 1024)   0           ['add_11[0][0]']                 \n",
            "                                                                                                  \n",
            " conv2d_43 (Conv2D)             (None, 3, 7, 256)    262400      ['activation_39[0][0]']          \n",
            "                                                                                                  \n",
            " batch_normalization_43 (BatchN  (None, 3, 7, 256)   1024        ['conv2d_43[0][0]']              \n",
            " ormalization)                                                                                    \n",
            "                                                                                                  \n",
            " activation_40 (Activation)     (None, 3, 7, 256)    0           ['batch_normalization_43[0][0]'] \n",
            "                                                                                                  \n",
            " conv2d_44 (Conv2D)             (None, 3, 7, 256)    590080      ['activation_40[0][0]']          \n",
            "                                                                                                  \n",
            " batch_normalization_44 (BatchN  (None, 3, 7, 256)   1024        ['conv2d_44[0][0]']              \n",
            " ormalization)                                                                                    \n",
            "                                                                                                  \n",
            " activation_41 (Activation)     (None, 3, 7, 256)    0           ['batch_normalization_44[0][0]'] \n",
            "                                                                                                  \n",
            " conv2d_45 (Conv2D)             (None, 3, 7, 1024)   263168      ['activation_41[0][0]']          \n",
            "                                                                                                  \n",
            " batch_normalization_45 (BatchN  (None, 3, 7, 1024)  4096        ['conv2d_45[0][0]']              \n",
            " ormalization)                                                                                    \n",
            "                                                                                                  \n",
            " add_12 (Add)                   (None, 3, 7, 1024)   0           ['batch_normalization_45[0][0]', \n",
            "                                                                  'activation_39[0][0]']          \n",
            "                                                                                                  \n",
            " activation_42 (Activation)     (None, 3, 7, 1024)   0           ['add_12[0][0]']                 \n",
            "                                                                                                  \n",
            " conv2d_46 (Conv2D)             (None, 2, 4, 512)    524800      ['activation_42[0][0]']          \n",
            "                                                                                                  \n",
            " batch_normalization_46 (BatchN  (None, 2, 4, 512)   2048        ['conv2d_46[0][0]']              \n",
            " ormalization)                                                                                    \n",
            "                                                                                                  \n",
            " activation_43 (Activation)     (None, 2, 4, 512)    0           ['batch_normalization_46[0][0]'] \n",
            "                                                                                                  \n",
            " conv2d_47 (Conv2D)             (None, 2, 4, 512)    2359808     ['activation_43[0][0]']          \n",
            "                                                                                                  \n",
            " batch_normalization_47 (BatchN  (None, 2, 4, 512)   2048        ['conv2d_47[0][0]']              \n",
            " ormalization)                                                                                    \n",
            "                                                                                                  \n",
            " activation_44 (Activation)     (None, 2, 4, 512)    0           ['batch_normalization_47[0][0]'] \n",
            "                                                                                                  \n",
            " conv2d_48 (Conv2D)             (None, 2, 4, 2048)   1050624     ['activation_44[0][0]']          \n",
            "                                                                                                  \n",
            " conv2d_49 (Conv2D)             (None, 2, 4, 2048)   2099200     ['activation_42[0][0]']          \n",
            "                                                                                                  \n",
            " batch_normalization_48 (BatchN  (None, 2, 4, 2048)  8192        ['conv2d_48[0][0]']              \n",
            " ormalization)                                                                                    \n",
            "                                                                                                  \n",
            " batch_normalization_49 (BatchN  (None, 2, 4, 2048)  8192        ['conv2d_49[0][0]']              \n",
            " ormalization)                                                                                    \n",
            "                                                                                                  \n",
            " add_13 (Add)                   (None, 2, 4, 2048)   0           ['batch_normalization_48[0][0]', \n",
            "                                                                  'batch_normalization_49[0][0]'] \n",
            "                                                                                                  \n",
            " activation_45 (Activation)     (None, 2, 4, 2048)   0           ['add_13[0][0]']                 \n",
            "                                                                                                  \n",
            " conv2d_50 (Conv2D)             (None, 2, 4, 512)    1049088     ['activation_45[0][0]']          \n",
            "                                                                                                  \n",
            " batch_normalization_50 (BatchN  (None, 2, 4, 512)   2048        ['conv2d_50[0][0]']              \n",
            " ormalization)                                                                                    \n",
            "                                                                                                  \n",
            " activation_46 (Activation)     (None, 2, 4, 512)    0           ['batch_normalization_50[0][0]'] \n",
            "                                                                                                  \n",
            " conv2d_51 (Conv2D)             (None, 2, 4, 512)    2359808     ['activation_46[0][0]']          \n",
            "                                                                                                  \n",
            " batch_normalization_51 (BatchN  (None, 2, 4, 512)   2048        ['conv2d_51[0][0]']              \n",
            " ormalization)                                                                                    \n",
            "                                                                                                  \n",
            " activation_47 (Activation)     (None, 2, 4, 512)    0           ['batch_normalization_51[0][0]'] \n",
            "                                                                                                  \n",
            " conv2d_52 (Conv2D)             (None, 2, 4, 2048)   1050624     ['activation_47[0][0]']          \n",
            "                                                                                                  \n",
            " batch_normalization_52 (BatchN  (None, 2, 4, 2048)  8192        ['conv2d_52[0][0]']              \n",
            " ormalization)                                                                                    \n",
            "                                                                                                  \n",
            " add_14 (Add)                   (None, 2, 4, 2048)   0           ['batch_normalization_52[0][0]', \n",
            "                                                                  'activation_45[0][0]']          \n",
            "                                                                                                  \n",
            " activation_48 (Activation)     (None, 2, 4, 2048)   0           ['add_14[0][0]']                 \n",
            "                                                                                                  \n",
            " conv2d_53 (Conv2D)             (None, 2, 4, 512)    1049088     ['activation_48[0][0]']          \n",
            "                                                                                                  \n",
            " batch_normalization_53 (BatchN  (None, 2, 4, 512)   2048        ['conv2d_53[0][0]']              \n",
            " ormalization)                                                                                    \n",
            "                                                                                                  \n",
            " activation_49 (Activation)     (None, 2, 4, 512)    0           ['batch_normalization_53[0][0]'] \n",
            "                                                                                                  \n",
            " conv2d_54 (Conv2D)             (None, 2, 4, 512)    2359808     ['activation_49[0][0]']          \n",
            "                                                                                                  \n",
            " batch_normalization_54 (BatchN  (None, 2, 4, 512)   2048        ['conv2d_54[0][0]']              \n",
            " ormalization)                                                                                    \n",
            "                                                                                                  \n",
            " activation_50 (Activation)     (None, 2, 4, 512)    0           ['batch_normalization_54[0][0]'] \n",
            "                                                                                                  \n",
            " conv2d_55 (Conv2D)             (None, 2, 4, 2048)   1050624     ['activation_50[0][0]']          \n",
            "                                                                                                  \n",
            " batch_normalization_55 (BatchN  (None, 2, 4, 2048)  8192        ['conv2d_55[0][0]']              \n",
            " ormalization)                                                                                    \n",
            "                                                                                                  \n",
            " add_15 (Add)                   (None, 2, 4, 2048)   0           ['batch_normalization_55[0][0]', \n",
            "                                                                  'activation_48[0][0]']          \n",
            "                                                                                                  \n",
            " activation_51 (Activation)     (None, 2, 4, 2048)   0           ['add_15[0][0]']                 \n",
            "                                                                                                  \n",
            " average_pooling2d (AveragePool  (None, 1, 2, 2048)  0           ['activation_51[0][0]']          \n",
            " ing2D)                                                                                           \n",
            "                                                                                                  \n",
            " flatten_1 (Flatten)            (None, 4096)         0           ['average_pooling2d[0][0]']      \n",
            "                                                                                                  \n",
            " dense_2 (Dense)                (None, 7)            28679       ['flatten_1[0][0]']              \n",
            "                                                                                                  \n",
            "==================================================================================================\n",
            "Total params: 23,610,119\n",
            "Trainable params: 23,556,999\n",
            "Non-trainable params: 53,120\n",
            "__________________________________________________________________________________________________\n"
          ]
        }
      ],
      "source": [
        "resnet50_model.summary()\n"
      ]
    },
    {
      "cell_type": "code",
      "execution_count": 20,
      "metadata": {
        "id": "bOjJedV9fAPQ"
      },
      "outputs": [],
      "source": [
        "resnet50_model.compile(loss='categorical_crossentropy', optimizer=Adam(learning_rate=1e-5), \n",
        "                       metrics=['accuracy'])"
      ]
    },
    {
      "cell_type": "code",
      "execution_count": 27,
      "metadata": {
        "colab": {
          "base_uri": "https://localhost:8080/"
        },
        "id": "8p4vfmFSfAPQ",
        "outputId": "3d052286-9df7-4b34-b3ca-2fd275fd26b7"
      },
      "outputs": [
        {
          "name": "stdout",
          "output_type": "stream",
          "text": [
            "Epoch 1/100\n",
            "250/250 [==============================] - ETA: 0s - loss: 19.7701 - accuracy: 0.4204\n",
            "Epoch 1: val_accuracy improved from -inf to 0.46897, saving model to speech_cnn_nodownsample.h5\n",
            "250/250 [==============================] - 77s 93ms/step - loss: 19.7701 - accuracy: 0.4204 - val_loss: 19.7133 - val_accuracy: 0.4690\n",
            "Epoch 2/100\n",
            "250/250 [==============================] - ETA: 0s - loss: 19.6379 - accuracy: 0.4507\n",
            "Epoch 2: val_accuracy did not improve from 0.46897\n",
            "250/250 [==============================] - 18s 70ms/step - loss: 19.6379 - accuracy: 0.4507 - val_loss: 19.6910 - val_accuracy: 0.4665\n",
            "Epoch 3/100\n",
            "250/250 [==============================] - ETA: 0s - loss: 19.5337 - accuracy: 0.4690\n",
            "Epoch 3: val_accuracy did not improve from 0.46897\n",
            "250/250 [==============================] - 18s 71ms/step - loss: 19.5337 - accuracy: 0.4690 - val_loss: 19.6173 - val_accuracy: 0.4615\n",
            "Epoch 4/100\n",
            "250/250 [==============================] - ETA: 0s - loss: 19.4625 - accuracy: 0.4847\n",
            "Epoch 4: val_accuracy did not improve from 0.46897\n",
            "250/250 [==============================] - 18s 70ms/step - loss: 19.4625 - accuracy: 0.4847 - val_loss: 19.6544 - val_accuracy: 0.4139\n",
            "Epoch 5/100\n",
            "250/250 [==============================] - ETA: 0s - loss: 19.3985 - accuracy: 0.4912\n",
            "Epoch 5: val_accuracy did not improve from 0.46897\n",
            "250/250 [==============================] - 18s 72ms/step - loss: 19.3985 - accuracy: 0.4912 - val_loss: 19.6560 - val_accuracy: 0.4349\n",
            "Epoch 6/100\n",
            "250/250 [==============================] - ETA: 0s - loss: 19.3156 - accuracy: 0.5131\n",
            "Epoch 6: val_accuracy did not improve from 0.46897\n",
            "250/250 [==============================] - 18s 71ms/step - loss: 19.3156 - accuracy: 0.5131 - val_loss: 19.6722 - val_accuracy: 0.4014\n",
            "Epoch 7/100\n",
            "250/250 [==============================] - ETA: 0s - loss: 19.2510 - accuracy: 0.5255\n",
            "Epoch 7: val_accuracy did not improve from 0.46897\n",
            "250/250 [==============================] - 18s 71ms/step - loss: 19.2510 - accuracy: 0.5255 - val_loss: 19.6064 - val_accuracy: 0.4209\n",
            "Epoch 8/100\n",
            "250/250 [==============================] - ETA: 0s - loss: 19.1782 - accuracy: 0.5447\n",
            "Epoch 8: val_accuracy did not improve from 0.46897\n",
            "250/250 [==============================] - 18s 72ms/step - loss: 19.1782 - accuracy: 0.5447 - val_loss: 19.5930 - val_accuracy: 0.4224\n",
            "Epoch 9/100\n",
            "250/250 [==============================] - ETA: 0s - loss: 19.1240 - accuracy: 0.5526\n",
            "Epoch 9: val_accuracy did not improve from 0.46897\n",
            "250/250 [==============================] - 18s 71ms/step - loss: 19.1240 - accuracy: 0.5526 - val_loss: 19.5706 - val_accuracy: 0.4139\n",
            "Epoch 10/100\n",
            "250/250 [==============================] - ETA: 0s - loss: 19.0491 - accuracy: 0.5738\n",
            "Epoch 10: val_accuracy did not improve from 0.46897\n",
            "250/250 [==============================] - 18s 72ms/step - loss: 19.0491 - accuracy: 0.5738 - val_loss: 19.5345 - val_accuracy: 0.4344\n",
            "Epoch 11/100\n",
            "250/250 [==============================] - ETA: 0s - loss: 18.9712 - accuracy: 0.5925Restoring model weights from the end of the best epoch: 1.\n",
            "\n",
            "Epoch 11: val_accuracy did not improve from 0.46897\n",
            "250/250 [==============================] - 18s 71ms/step - loss: 18.9712 - accuracy: 0.5925 - val_loss: 19.5861 - val_accuracy: 0.4039\n",
            "Epoch 11: early stopping\n"
          ]
        }
      ],
      "source": [
        "resnet_train = resnet50_model.fit(X_train, Y_train, batch_size=32, epochs=100, callbacks=[es, checkpoint],\n",
        "                                verbose=1, validation_data=(X_valid, Y_valid), shuffle=True)"
      ]
    },
    {
      "cell_type": "code",
      "execution_count": null,
      "metadata": {},
      "outputs": [],
      "source": [
        "test_loss, test_acc = classification_model.evaluate(test_X, test_Y, batch_size=32)"
      ]
    },
    {
      "cell_type": "code",
      "execution_count": null,
      "metadata": {},
      "outputs": [
        {
          "name": "stdout",
          "output_type": "stream",
          "text": [
            "82/82 [==============================] - 1s 14ms/step\n"
          ]
        }
      ],
      "source": [
        "y_pred = classification_model.predict(test_X, batch_size=32)\n",
        "y_pred = np.argmax(y_pred, axis=1)"
      ]
    },
    {
      "cell_type": "code",
      "execution_count": null,
      "metadata": {},
      "outputs": [],
      "source": [
        "y_test_encoded = np.argmax(test_Y, axis=1)"
      ]
    },
    {
      "attachments": {},
      "cell_type": "markdown",
      "metadata": {},
      "source": [
        "Since the model accuracy is very low with ResNet50, we do not use this model for further experiments."
      ]
    },
    {
      "cell_type": "code",
      "execution_count": null,
      "metadata": {},
      "outputs": [
        {
          "data": {
            "image/png": "[encoded data removed]",
            "text/plain": [
              "<Figure size 600x600 with 2 Axes>"
            ]
          },
          "metadata": {},
          "output_type": "display_data"
        }
      ],
      "source": [
        "cm = confusion_matrix(y_test_encoded, y_pred)\n",
        "cr = ClassificationReport()\n",
        "cr.plot_confusion_matrix(cm=cm, normalize = False, target_names = class_names_encoded)"
      ]
    },
    {
      "cell_type": "code",
      "execution_count": null,
      "metadata": {},
      "outputs": [],
      "source": []
    }
  ],
  "metadata": {
    "accelerator": "GPU",
    "colab": {
      "gpuType": "T4",
      "provenance": []
    },
    "gpuClass": "standard",
    "kernelspec": {
      "display_name": "Python 3",
      "language": "python",
      "name": "python3"
    },
    "language_info": {
      "codemirror_mode": {
        "name": "ipython",
        "version": 3
      },
      "file_extension": ".py",
      "mimetype": "text/x-python",
      "name": "python",
      "nbconvert_exporter": "python",
      "pygments_lexer": "ipython3",
      "version": "3.10.11"
    },
    "orig_nbformat": 4
  },
  "nbformat": 4,
  "nbformat_minor": 0
}
