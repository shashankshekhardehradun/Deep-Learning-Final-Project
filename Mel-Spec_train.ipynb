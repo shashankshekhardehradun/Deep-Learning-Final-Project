{
  "cells": [
    {
      "attachments": {},
      "cell_type": "markdown",
      "metadata": {},
      "source": [
        "# Training on Audio-only Mel-bin Spectrograms"
      ]
    },
    {
      "cell_type": "code",
      "execution_count": null,
      "metadata": {
        "id": "0xtrM6uqUSYK"
      },
      "outputs": [],
      "source": [
        "import warnings\n",
        "warnings.filterwarnings('ignore')"
      ]
    },
    {
      "cell_type": "code",
      "execution_count": null,
      "metadata": {
        "colab": {
          "base_uri": "https://localhost:8080/"
        },
        "id": "nqDLVeBOUXBH",
        "outputId": "41c0f2ff-4f20-4209-ed6b-1d74b6537b0b"
      },
      "outputs": [
        {
          "name": "stdout",
          "output_type": "stream",
          "text": [
            "Drive already mounted at /content/drive; to attempt to forcibly remount, call drive.mount(\"/content/drive\", force_remount=True).\n"
          ]
        }
      ],
      "source": [
        "from google.colab import drive\n",
        "drive.mount('/content/drive')"
      ]
    },
    {
      "cell_type": "code",
      "execution_count": null,
      "metadata": {
        "id": "ALy1nuSZUSYO"
      },
      "outputs": [],
      "source": [
        "import numpy as np\n",
        "import pandas as pd\n",
        "from sklearn.preprocessing import LabelEncoder\n",
        "from sklearn.metrics import accuracy_score, confusion_matrix, classification_report, f1_score\n",
        "\n",
        "import tensorflow as tf\n",
        "from tensorflow import keras\n",
        "from tensorflow.keras import backend as K\n",
        "from tensorflow.keras.optimizers import Adam\n",
        "from tensorflow.keras.models import Model\n",
        "from tensorflow.keras.layers import Input, Conv2D, BatchNormalization, MaxPooling2D, Dense, Dropout, Activation, Flatten\n",
        "from tensorflow.keras.callbacks import EarlyStopping, ModelCheckpoint\n",
        "import tensorflow.keras.models as models\n",
        "from tensorflow.keras.utils import to_categorical\n",
        "from classificationreport import ClassificationReport ## this is a python script provided in the directory\n",
        "from tensorflow.keras.losses import CategoricalCrossentropy\n",
        "\n",
        "import matplotlib.pyplot as plt; plt.rcdefaults()\n",
        "import matplotlib.pyplot as plt\n",
        "import matplotlib\n",
        "import subprocess\n",
        "import os\n",
        "import csv\n",
        "import statistics\n",
        "from sklearn.utils import resample\n",
        "\n"
      ]
    },
    {
      "attachments": {},
      "cell_type": "markdown",
      "metadata": {},
      "source": [
        "First, we import the saved Mel-bin Spectrograms numpy train and test files and the full train and test dataframes to obtain the labels."
      ]
    },
    {
      "cell_type": "code",
      "execution_count": null,
      "metadata": {
        "colab": {
          "base_uri": "https://localhost:8080/"
        },
        "id": "ThqcJeoIUSYQ",
        "outputId": "d1b61f9a-aa5c-4ed4-f765-bacf0585d25e"
      },
      "outputs": [
        {
          "data": {
            "text/plain": [
              "((9988, 128, 107), (2610, 128, 107))"
            ]
          },
          "execution_count": 4,
          "metadata": {},
          "output_type": "execute_result"
        }
      ],
      "source": [
        "x_train_mel = np.load('/content/drive/MyDrive/emotion/train_mel_specs.npy')\n",
        "x_test_mel = np.load('/content/drive/MyDrive/emotion/test_mel_specs.npy')\n",
        "\n",
        "x_train_mel.shape, x_test_mel.shape"
      ]
    },
    {
      "cell_type": "code",
      "execution_count": null,
      "metadata": {
        "colab": {
          "base_uri": "https://localhost:8080/"
        },
        "id": "LavJbMWpUSYR",
        "outputId": "8921d3ca-1221-4533-e68e-d0043ae6b5af"
      },
      "outputs": [
        {
          "data": {
            "text/plain": [
              "((9988, 11), (2610, 11))"
            ]
          },
          "execution_count": 5,
          "metadata": {},
          "output_type": "execute_result"
        }
      ],
      "source": [
        "train_df = pd.read_csv(\"/content/drive/MyDrive/emotion/train_sent_emo.csv\", encoding='latin1')\n",
        "test_df = pd.read_csv(\"/content/drive/MyDrive/emotion/test_sent_emo.csv\", encoding='latin1')\n",
        "\n",
        "train_df.shape, test_df.shape"
      ]
    },
    {
      "attachments": {},
      "cell_type": "markdown",
      "metadata": {},
      "source": [
        "The emotions are labeled by any of these seven emotions -- Anger, Disgust, Sadness, Joy, Neutral, Surprise and Fear. Machine learning models typically work with numerical data, so we need to do Label encoding which converts categorical labels into numeric values, allowing the model to process and learn from them."
      ]
    },
    {
      "cell_type": "code",
      "execution_count": null,
      "metadata": {
        "id": "CNwxHgDyUSYS"
      },
      "outputs": [],
      "source": [
        "le = LabelEncoder()\n",
        "\n",
        "train_df['emotion_encoded'] = le.fit_transform(train_df['Emotion'])\n",
        "test_df['emotion_encoded'] = le.transform(test_df['Emotion'])\n",
        "class_names_encoded = le.classes_\n",
        "\n",
        "y_train = train_df['Emotion']\n",
        "y_train_encoded = train_df['emotion_encoded']\n",
        "\n",
        "y_test = test_df['Emotion']\n",
        "y_test_encoded = test_df['emotion_encoded']"
      ]
    },
    {
      "attachments": {},
      "cell_type": "markdown",
      "metadata": {},
      "source": [
        "CNNs typically expect input data to have a specific shape that includes dimensions for the height, width, and channels of the input image. Hence, we expand the dimensions to match this required input shape."
      ]
    },
    {
      "cell_type": "code",
      "execution_count": null,
      "metadata": {
        "id": "k2wCJY8PUSYS"
      },
      "outputs": [],
      "source": [
        "train_X = np.expand_dims(x_train_mel, -1)\n",
        "test_X = np.expand_dims(x_test_mel, -1)"
      ]
    },
    {
      "attachments": {},
      "cell_type": "markdown",
      "metadata": {},
      "source": [
        "Finally, we convert the encoded labels to one-hot encoding since we are dealing with a multiclass classification problem."
      ]
    },
    {
      "cell_type": "code",
      "execution_count": null,
      "metadata": {
        "id": "nCJDrD1JUSYS"
      },
      "outputs": [],
      "source": [
        "train_Y = to_categorical(np.array(y_train_encoded))\n",
        "test_Y = to_categorical(np.array(y_test_encoded))"
      ]
    },
    {
      "cell_type": "code",
      "execution_count": null,
      "metadata": {
        "colab": {
          "base_uri": "https://localhost:8080/"
        },
        "id": "AxgDEVPYUSYS",
        "outputId": "af766d49-97f2-4910-ed7f-db15f4c3d2b7"
      },
      "outputs": [
        {
          "data": {
            "text/plain": [
              "(7,)"
            ]
          },
          "execution_count": 9,
          "metadata": {},
          "output_type": "execute_result"
        }
      ],
      "source": [
        "class_names_encoded.shape"
      ]
    },
    {
      "cell_type": "code",
      "execution_count": null,
      "metadata": {
        "colab": {
          "base_uri": "https://localhost:8080/"
        },
        "id": "-FLeoEjMUSYT",
        "outputId": "02a29192-5924-4662-c63f-ce5c6d1a956c"
      },
      "outputs": [
        {
          "data": {
            "text/plain": [
              "(128, 107, 1)"
            ]
          },
          "execution_count": 10,
          "metadata": {},
          "output_type": "execute_result"
        }
      ],
      "source": [
        "train_X[0].shape"
      ]
    },
    {
      "attachments": {},
      "cell_type": "markdown",
      "metadata": {},
      "source": [
        "The aim of extracting the mel-bin spectrograms and MFCCs is to convert an audio file into an image form and then use it as input in any image classification model.\n",
        "<br>\n",
        "The architecture of our model is given  - \n",
        "<br>\n",
        "We use several layers to extract features from the input image (image of features extracted from an audio segment) and make predictions. The layers include convolutional layers, batch normalization, activation functions (ReLU), max pooling, and dropout for regularization. These layers are repeated multiple times, gradually increasing the number of filters. The final layers include flattening the feature maps, fully connected dense layers, and dropout regularization. The output layer uses the softmax activation function since our task is a multiclass classification problem. "
      ]
    },
    {
      "cell_type": "code",
      "execution_count": null,
      "metadata": {
        "colab": {
          "base_uri": "https://localhost:8080/"
        },
        "id": "ZsZ9NlEgUSYT",
        "outputId": "65d18eb5-e66e-4eeb-e4e7-03457b1a618f"
      },
      "outputs": [
        {
          "name": "stdout",
          "output_type": "stream",
          "text": [
            "Model: \"model_5\"\n",
            "_________________________________________________________________\n",
            " Layer (type)                Output Shape              Param #   \n",
            "=================================================================\n",
            " input_7 (InputLayer)        [(None, 128, 107, 1)]     0         \n",
            "                                                                 \n",
            " conv2d_69 (Conv2D)          (None, 128, 107, 32)      1600      \n",
            "                                                                 \n",
            " batch_normalization_69 (Bat  (None, 128, 107, 32)     512       \n",
            " chNormalization)                                                \n",
            "                                                                 \n",
            " activation_65 (Activation)  (None, 128, 107, 32)      0         \n",
            "                                                                 \n",
            " max_pooling2d_17 (MaxPoolin  (None, 64, 53, 32)       0         \n",
            " g2D)                                                            \n",
            "                                                                 \n",
            " dropout_21 (Dropout)        (None, 64, 53, 32)        0         \n",
            "                                                                 \n",
            " conv2d_70 (Conv2D)          (None, 64, 53, 64)        100416    \n",
            "                                                                 \n",
            " batch_normalization_70 (Bat  (None, 64, 53, 64)       256       \n",
            " chNormalization)                                                \n",
            "                                                                 \n",
            " activation_66 (Activation)  (None, 64, 53, 64)        0         \n",
            "                                                                 \n",
            " max_pooling2d_18 (MaxPoolin  (None, 32, 26, 64)       0         \n",
            " g2D)                                                            \n",
            "                                                                 \n",
            " dropout_22 (Dropout)        (None, 32, 26, 64)        0         \n",
            "                                                                 \n",
            " conv2d_71 (Conv2D)          (None, 32, 26, 128)       401536    \n",
            "                                                                 \n",
            " batch_normalization_71 (Bat  (None, 32, 26, 128)      128       \n",
            " chNormalization)                                                \n",
            "                                                                 \n",
            " activation_67 (Activation)  (None, 32, 26, 128)       0         \n",
            "                                                                 \n",
            " max_pooling2d_19 (MaxPoolin  (None, 16, 13, 128)      0         \n",
            " g2D)                                                            \n",
            "                                                                 \n",
            " dropout_23 (Dropout)        (None, 16, 13, 128)       0         \n",
            "                                                                 \n",
            " conv2d_72 (Conv2D)          (None, 16, 13, 256)       1605888   \n",
            "                                                                 \n",
            " batch_normalization_72 (Bat  (None, 16, 13, 256)      64        \n",
            " chNormalization)                                                \n",
            "                                                                 \n",
            " activation_68 (Activation)  (None, 16, 13, 256)       0         \n",
            "                                                                 \n",
            " max_pooling2d_20 (MaxPoolin  (None, 8, 6, 256)        0         \n",
            " g2D)                                                            \n",
            "                                                                 \n",
            " dropout_24 (Dropout)        (None, 8, 6, 256)         0         \n",
            "                                                                 \n",
            " flatten_6 (Flatten)         (None, 12288)             0         \n",
            "                                                                 \n",
            " dense_11 (Dense)            (None, 100)               1228900   \n",
            "                                                                 \n",
            " dropout_25 (Dropout)        (None, 100)               0         \n",
            "                                                                 \n",
            " dense_12 (Dense)            (None, 7)                 707       \n",
            "                                                                 \n",
            "=================================================================\n",
            "Total params: 3,340,007\n",
            "Trainable params: 3,339,527\n",
            "Non-trainable params: 480\n",
            "_________________________________________________________________\n",
            "None\n"
          ]
        }
      ],
      "source": [
        "inputLayer = Input(shape=train_X[0].shape)\n",
        "\n",
        "CONV = Conv2D(32, kernel_size=(7, 7), padding='same')(inputLayer)\n",
        "CONV = BatchNormalization(axis=1)(CONV)\n",
        "CONV = Activation('relu')(CONV)\n",
        "CONV = MaxPooling2D(pool_size=2)(CONV)\n",
        "CONV = Dropout(0.2)(CONV)\n",
        "\n",
        "CONV = Conv2D(64, kernel_size=(7, 7), padding='same')(CONV)\n",
        "CONV = BatchNormalization(axis=1)(CONV)\n",
        "CONV = Activation('relu')(CONV)\n",
        "CONV = MaxPooling2D(pool_size=2)(CONV)\n",
        "CONV = Dropout(0.20)(CONV)\n",
        "\n",
        "CONV = Conv2D(128, kernel_size=(7, 7), padding='same')(CONV)\n",
        "CONV = BatchNormalization(axis=1)(CONV)\n",
        "CONV = Activation('relu')(CONV)\n",
        "CONV = MaxPooling2D(pool_size=2)(CONV)\n",
        "CONV = Dropout(0.20)(CONV)\n",
        "\n",
        "CONV = Conv2D(256, kernel_size=(7, 7), padding='same')(CONV)\n",
        "CONV = BatchNormalization(axis=1)(CONV)\n",
        "CONV = Activation('relu')(CONV)\n",
        "CONV = MaxPooling2D(pool_size=2)(CONV)\n",
        "CONV = Dropout(0.20)(CONV)\n",
        "\n",
        "FLATTEN = Flatten()(CONV)\n",
        "DENSE = Dense(100, activation='relu')(FLATTEN)\n",
        "DROPOUT = Dropout(0.20)(DENSE)\n",
        "    \n",
        "outputLayer = Dense(7, activation='softmax')(DROPOUT)\n",
        "\n",
        "classification_model = Model(inputLayer, outputLayer)\n",
        "\n",
        "print(classification_model.summary())\n",
        "\n",
        "classification_model.compile(loss='categorical_crossentropy', \n",
        "              optimizer=Adam(learning_rate=0.0001), \n",
        "              metrics=['accuracy']) "
      ]
    },
    {
      "cell_type": "code",
      "execution_count": null,
      "metadata": {
        "id": "VMczw0oEUSYU"
      },
      "outputs": [],
      "source": [
        "tf.config.run_functions_eagerly(True)"
      ]
    },
    {
      "attachments": {},
      "cell_type": "markdown",
      "metadata": {},
      "source": [
        "Since the zip file of the validation set provided with the MELD dataset was corrupted, we created our own validation split from the train data."
      ]
    },
    {
      "cell_type": "code",
      "execution_count": null,
      "metadata": {
        "id": "VXxf8ZcAUSYU"
      },
      "outputs": [],
      "source": [
        "from sklearn.model_selection import train_test_split\n",
        "\n",
        "X_train, X_valid, Y_train, Y_valid = train_test_split(train_X, train_Y, test_size=0.2, random_state=42)"
      ]
    },
    {
      "cell_type": "code",
      "execution_count": null,
      "metadata": {
        "id": "fmdjvSrNUSYU"
      },
      "outputs": [],
      "source": [
        "type = '/content/drive/MyDrive/emotion/speech_cnn_nodownsample_mel'"
      ]
    },
    {
      "attachments": {},
      "cell_type": "markdown",
      "metadata": {},
      "source": [
        "We use checkpoints and early stopping to ensure that the model stops training before it starts to overfit on the training data."
      ]
    },
    {
      "cell_type": "code",
      "execution_count": null,
      "metadata": {
        "id": "e4tLrkDvUSYV"
      },
      "outputs": [],
      "source": [
        "checkpoint = ModelCheckpoint(type + '.h5', monitor='val_accuracy',verbose=1, save_best_only=True)\n",
        "es = EarlyStopping(monitor = \"val_accuracy\", min_delta = 0.01, patience=10, mode = \"max\", restore_best_weights = True, verbose=1)"
      ]
    },
    {
      "cell_type": "code",
      "execution_count": null,
      "metadata": {
        "colab": {
          "base_uri": "https://localhost:8080/"
        },
        "id": "cBxqkis-USYV",
        "outputId": "5a6df633-8f92-4f6c-c437-5fe7a83b191e"
      },
      "outputs": [
        {
          "name": "stdout",
          "output_type": "stream",
          "text": [
            "Epoch 1/100\n",
            "250/250 [==============================] - ETA: 0s - loss: 1.6414 - accuracy: 0.4578\n",
            "Epoch 1: val_accuracy improved from -inf to 0.46897, saving model to /content/drive/MyDrive/emotion/speech_cnn_nodownsample_mel.h5\n",
            "250/250 [==============================] - 28s 112ms/step - loss: 1.6414 - accuracy: 0.4578 - val_loss: 1.5455 - val_accuracy: 0.4690\n",
            "Epoch 2/100\n",
            "250/250 [==============================] - ETA: 0s - loss: 1.5777 - accuracy: 0.4670\n",
            "Epoch 2: val_accuracy did not improve from 0.46897\n",
            "250/250 [==============================] - 28s 110ms/step - loss: 1.5777 - accuracy: 0.4670 - val_loss: 1.5414 - val_accuracy: 0.4690\n",
            "Epoch 3/100\n",
            "250/250 [==============================] - ETA: 0s - loss: 1.5630 - accuracy: 0.4708\n",
            "Epoch 3: val_accuracy did not improve from 0.46897\n",
            "250/250 [==============================] - 27s 110ms/step - loss: 1.5630 - accuracy: 0.4708 - val_loss: 1.5274 - val_accuracy: 0.4690\n",
            "Epoch 4/100\n",
            "250/250 [==============================] - ETA: 0s - loss: 1.5574 - accuracy: 0.4711\n",
            "Epoch 4: val_accuracy did not improve from 0.46897\n",
            "250/250 [==============================] - 27s 109ms/step - loss: 1.5574 - accuracy: 0.4711 - val_loss: 1.5130 - val_accuracy: 0.4690\n",
            "Epoch 5/100\n",
            "250/250 [==============================] - ETA: 0s - loss: 1.5521 - accuracy: 0.4712\n",
            "Epoch 5: val_accuracy did not improve from 0.46897\n"
          ]
        }
      ],
      "source": [
        "model = classification_model.fit(X_train, Y_train, batch_size=32, epochs=100, callbacks=[checkpoint, es],\n",
        "                                verbose=1, validation_data=(X_valid, Y_valid), shuffle=True)"
      ]
    },
    {
      "cell_type": "code",
      "execution_count": null,
      "metadata": {
        "id": "MtcYCzfx1tk5"
      },
      "outputs": [],
      "source": [
        "from keras.models import load_model\n",
        "model = load_model('/content/drive/MyDrive/emotion/speech_cnn_nodownsample_mel.h5')\n"
      ]
    },
    {
      "attachments": {},
      "cell_type": "markdown",
      "metadata": {},
      "source": [
        "The Loss and Accuracy of the trained model on the test set is given below - "
      ]
    },
    {
      "cell_type": "code",
      "execution_count": null,
      "metadata": {},
      "outputs": [
        {
          "name": "stdout",
          "output_type": "stream",
          "text": [
            "82/82 [==============================] - 2s 24ms/step - loss: 1.5144 - accuracy: 0.4812\n",
            "Test loss: 1.5144474506378174\n",
            "Test accuracy: 0.4812260568141937\n"
          ]
        }
      ],
      "source": [
        "test_loss, test_acc = classification_model.evaluate(test_X, test_Y, batch_size=32)\n",
        "print('Test loss:', test_loss)\n",
        "print('Test accuracy:', test_acc)"
      ]
    },
    {
      "cell_type": "code",
      "execution_count": null,
      "metadata": {},
      "outputs": [
        {
          "name": "stdout",
          "output_type": "stream",
          "text": [
            "82/82 [==============================] - 1s 14ms/step\n"
          ]
        }
      ],
      "source": [
        "y_pred = classification_model.predict(test_X, batch_size=32)\n",
        "y_pred = np.argmax(y_pred, axis=1)"
      ]
    },
    {
      "cell_type": "code",
      "execution_count": null,
      "metadata": {},
      "outputs": [],
      "source": [
        "y_test_encoded = np.argmax(test_Y, axis=1)"
      ]
    },
    {
      "cell_type": "code",
      "execution_count": null,
      "metadata": {},
      "outputs": [
        {
          "name": "stdout",
          "output_type": "stream",
          "text": [
            "              precision    recall  f1-score   support\n",
            "\n",
            "       anger       0.00      0.00      0.00       345\n",
            "     disgust       0.00      0.00      0.00        68\n",
            "        fear       0.00      0.00      0.00        50\n",
            "         joy       0.00      0.00      0.00       402\n",
            "     neutral       0.48      1.00      0.65      1256\n",
            "     sadness       0.00      0.00      0.00       208\n",
            "    surprise       0.00      0.00      0.00       281\n",
            "\n",
            "    accuracy                           0.48      2610\n",
            "   macro avg       0.07      0.14      0.09      2610\n",
            "weighted avg       0.23      0.48      0.31      2610\n",
            "\n"
          ]
        }
      ],
      "source": [
        "print(classification_report(y_test_encoded, y_pred, target_names=class_names_encoded))"
      ]
    },
    {
      "attachments": {},
      "cell_type": "markdown",
      "metadata": {},
      "source": [
        "Since the support of 'neutral' utterences are overwhelmingly high, the model misclassifes most of the other classes as 'neutral'."
      ]
    },
    {
      "cell_type": "code",
      "execution_count": null,
      "metadata": {},
      "outputs": [
        {
          "data": {
            "image/png": "[encoded data removed]",
            "text/plain": [
              "<Figure size 600x600 with 2 Axes>"
            ]
          },
          "metadata": {},
          "output_type": "display_data"
        }
      ],
      "source": [
        "cm = confusion_matrix(y_test_encoded, y_pred)\n",
        "cr = ClassificationReport()\n",
        "cr.plot_confusion_matrix(cm=cm, normalize = False, target_names = class_names_encoded)"
      ]
    },
    {
      "cell_type": "code",
      "execution_count": null,
      "metadata": {
        "id": "ObwlPPXzdiXe"
      },
      "outputs": [],
      "source": []
    }
  ],
  "metadata": {
    "accelerator": "GPU",
    "colab": {
      "gpuType": "T4",
      "provenance": []
    },
    "gpuClass": "standard",
    "kernelspec": {
      "display_name": "Python 3",
      "language": "python",
      "name": "python3"
    },
    "language_info": {
      "codemirror_mode": {
        "name": "ipython",
        "version": 3
      },
      "file_extension": ".py",
      "mimetype": "text/x-python",
      "name": "python",
      "nbconvert_exporter": "python",
      "pygments_lexer": "ipython3",
      "version": "3.10.11"
    },
    "orig_nbformat": 4
  },
  "nbformat": 4,
  "nbformat_minor": 0
}
