{
  "cells": [
    {
      "attachments": {},
      "cell_type": "markdown",
      "metadata": {},
      "source": [
        "# Training on Text+Audio features"
      ]
    },
    {
      "cell_type": "code",
      "execution_count": 1,
      "metadata": {
        "id": "PYFwI0TZGE-h"
      },
      "outputs": [],
      "source": [
        "# !pip install tensorflow-text\n",
        "# !pip install bert-tensorflow\n",
        "# !pip install tf-models-official"
      ]
    },
    {
      "cell_type": "code",
      "execution_count": 1,
      "metadata": {
        "id": "0xtrM6uqUSYK"
      },
      "outputs": [],
      "source": [
        "import warnings\n",
        "warnings.filterwarnings('ignore')"
      ]
    },
    {
      "cell_type": "code",
      "execution_count": 2,
      "metadata": {
        "colab": {
          "base_uri": "https://localhost:8080/"
        },
        "id": "nqDLVeBOUXBH",
        "outputId": "e2cd718f-2fdb-4231-cb41-e8a1edf922d4"
      },
      "outputs": [
        {
          "name": "stdout",
          "output_type": "stream",
          "text": [
            "Drive already mounted at /content/drive; to attempt to forcibly remount, call drive.mount(\"/content/drive\", force_remount=True).\n"
          ]
        }
      ],
      "source": [
        "from google.colab import drive\n",
        "drive.mount('/content/drive')"
      ]
    },
    {
      "cell_type": "code",
      "execution_count": 3,
      "metadata": {
        "id": "7o3exjdrGOrm"
      },
      "outputs": [],
      "source": [
        "import os, tensorflow as tf, tensorflow_hub as hub, tensorflow_text as text, numpy as np, pandas as pd\n",
        "from sklearn.metrics import classification_report, roc_curve, det_curve, precision_recall_curve, roc_auc_score, accuracy_score,confusion_matrix\n",
        "\n",
        "from tensorflow import keras\n",
        "from tensorflow.keras import backend as K\n",
        "from tensorflow.keras.optimizers import Adam\n",
        "from tensorflow.keras.models import Model\n",
        "from tensorflow.keras.utils import to_categorical\n",
        "from tensorflow.keras.optimizers import Adam\n",
        "from sklearn.preprocessing import LabelEncoder\n",
        "from tensorflow.keras.callbacks import EarlyStopping, ModelCheckpoint\n",
        "from sklearn.model_selection import train_test_split"
      ]
    },
    {
      "cell_type": "code",
      "execution_count": 4,
      "metadata": {
        "id": "ALy1nuSZUSYO"
      },
      "outputs": [],
      "source": [
        "import numpy as np\n",
        "import pandas as pd\n",
        "from sklearn.preprocessing import LabelEncoder\n",
        "from sklearn.metrics import accuracy_score, confusion_matrix, classification_report, f1_score\n",
        "\n",
        "import tensorflow as tf\n",
        "from tensorflow import keras\n",
        "from tensorflow.keras import backend as K\n",
        "from tensorflow.keras.optimizers import Adam\n",
        "from tensorflow.keras.models import Model\n",
        "from tensorflow.keras.layers import Input, Conv2D, BatchNormalization, MaxPooling2D, Dense, Dropout, Activation, Flatten\n",
        "from tensorflow.keras.callbacks import EarlyStopping, ModelCheckpoint\n",
        "import tensorflow.keras.models as models\n",
        "from tensorflow.keras.utils import to_categorical\n",
        "from classificationreport import ClassificationReport ## this is a python script provided in the directory\n",
        "from tensorflow.keras.losses import CategoricalCrossentropy\n",
        "\n",
        "import matplotlib.pyplot as plt; plt.rcdefaults()\n",
        "import matplotlib.pyplot as plt\n",
        "import matplotlib\n",
        "import subprocess\n",
        "import os\n",
        "import csv\n",
        "import statistics\n",
        "from sklearn.utils import resample\n",
        "\n"
      ]
    },
    {
      "attachments": {},
      "cell_type": "markdown",
      "metadata": {},
      "source": [
        "Since while using Audio-only features, we obtained better results when using MFCCs, we use these to build our final Multimodal model."
      ]
    },
    {
      "cell_type": "code",
      "execution_count": 5,
      "metadata": {
        "colab": {
          "base_uri": "https://localhost:8080/"
        },
        "id": "ThqcJeoIUSYQ",
        "outputId": "bc2036ee-6d44-4a5c-d778-ca7a00b6e1a9"
      },
      "outputs": [
        {
          "data": {
            "text/plain": [
              "((9988, 40, 107), (2610, 40, 107))"
            ]
          },
          "execution_count": 5,
          "metadata": {},
          "output_type": "execute_result"
        }
      ],
      "source": [
        "x_train_mfcc = np.load('/content/drive/MyDrive/emotion/train_mfccs.npy')\n",
        "x_test_mfcc = np.load('/content/drive/MyDrive/emotion/test_mfccs.npy')\n",
        "\n",
        "x_train_mfcc.shape, x_test_mfcc.shape"
      ]
    },
    {
      "cell_type": "code",
      "execution_count": 6,
      "metadata": {
        "colab": {
          "base_uri": "https://localhost:8080/"
        },
        "id": "LavJbMWpUSYR",
        "outputId": "67235a04-9a13-4f71-c392-5d8ced03bdf6"
      },
      "outputs": [
        {
          "data": {
            "text/plain": [
              "((9988, 11), (2610, 11))"
            ]
          },
          "execution_count": 6,
          "metadata": {},
          "output_type": "execute_result"
        }
      ],
      "source": [
        "train_df = pd.read_csv(\"/content/drive/MyDrive/emotion/train_sent_emo.csv\", encoding='latin1')\n",
        "test_df = pd.read_csv(\"/content/drive/MyDrive/emotion/test_sent_emo.csv\", encoding='latin1')\n",
        "\n",
        "train_df.shape, test_df.shape"
      ]
    },
    {
      "attachments": {},
      "cell_type": "markdown",
      "metadata": {},
      "source": [
        "The emotions are labeled by any of these seven emotions -- Anger, Disgust, Sadness, Joy, Neutral, Surprise and Fear. Machine learning models typically work with numerical data, so we need to do Label encoding which converts categorical labels into numeric values, allowing the model to process and learn from them."
      ]
    },
    {
      "cell_type": "code",
      "execution_count": 7,
      "metadata": {
        "id": "CNwxHgDyUSYS"
      },
      "outputs": [],
      "source": [
        "le = LabelEncoder()\n",
        "\n",
        "train_df['emotion_encoded'] = le.fit_transform(train_df['Emotion'])\n",
        "test_df['emotion_encoded'] = le.transform(test_df['Emotion'])\n",
        "class_names_encoded = le.classes_\n",
        "\n",
        "y_train = train_df['Emotion']\n",
        "y_train_encoded = train_df['emotion_encoded']\n",
        "\n",
        "y_test = test_df['Emotion']\n",
        "y_test_encoded = test_df['emotion_encoded']"
      ]
    },
    {
      "cell_type": "code",
      "execution_count": 8,
      "metadata": {
        "id": "6mrDZz68GvCC"
      },
      "outputs": [],
      "source": [
        "x_train_text = train_df['Utterance']\n",
        "x_test_text = test_df['Utterance']"
      ]
    },
    {
      "cell_type": "code",
      "execution_count": 9,
      "metadata": {
        "colab": {
          "base_uri": "https://localhost:8080/"
        },
        "id": "syoFtWssM62D",
        "outputId": "2523addb-36b3-4c7c-e174-98c19dc45aa6"
      },
      "outputs": [
        {
          "data": {
            "text/plain": [
              "(327, 236)"
            ]
          },
          "execution_count": 9,
          "metadata": {},
          "output_type": "execute_result"
        }
      ],
      "source": [
        "len(max(train_df['Utterance'], key=len)), len(max(test_df['Utterance'], key=len))"
      ]
    },
    {
      "cell_type": "code",
      "execution_count": 10,
      "metadata": {
        "id": "k2wCJY8PUSYS"
      },
      "outputs": [],
      "source": [
        "x_train_audio = np.expand_dims(x_train_mfcc, -1)\n",
        "x_test_audio = np.expand_dims(x_test_mfcc, -1)"
      ]
    },
    {
      "cell_type": "code",
      "execution_count": 11,
      "metadata": {
        "id": "nCJDrD1JUSYS"
      },
      "outputs": [],
      "source": [
        "train_Y = to_categorical(np.array(y_train_encoded))\n",
        "test_Y = to_categorical(np.array(y_test_encoded))"
      ]
    },
    {
      "cell_type": "code",
      "execution_count": 12,
      "metadata": {
        "colab": {
          "base_uri": "https://localhost:8080/"
        },
        "id": "AxgDEVPYUSYS",
        "outputId": "3d8d7fa8-5c83-4910-aa86-2166174f1f08"
      },
      "outputs": [
        {
          "data": {
            "text/plain": [
              "(7,)"
            ]
          },
          "execution_count": 12,
          "metadata": {},
          "output_type": "execute_result"
        }
      ],
      "source": [
        "class_names_encoded.shape"
      ]
    },
    {
      "attachments": {},
      "cell_type": "markdown",
      "metadata": {},
      "source": [
        "The final shapes of the audio training feature set and the text training feature set are given below - "
      ]
    },
    {
      "cell_type": "code",
      "execution_count": 13,
      "metadata": {
        "colab": {
          "base_uri": "https://localhost:8080/"
        },
        "id": "F0kOPeByHW4H",
        "outputId": "238ce860-e68b-4d49-8830-97906d1dfafa"
      },
      "outputs": [
        {
          "data": {
            "text/plain": [
              "((9988, 40, 107, 1), (9988,))"
            ]
          },
          "execution_count": 13,
          "metadata": {},
          "output_type": "execute_result"
        }
      ],
      "source": [
        "x_train_audio.shape, x_train_text.shape"
      ]
    },
    {
      "attachments": {},
      "cell_type": "markdown",
      "metadata": {},
      "source": [
        "We load the BERT text preprocessing model from TensorFlow Hub. The BERT model for English text, with uncased vocabulary, and version 3 is used. The `hub.KerasLayer` allows the model to be used as a Keras layer within the TensorFlow framework. The purpose of this preprocessing model is to tokenize and preprocess the input text to be compatible with BERT's input requirements. \n",
        "<br>\n",
        "Then we load the BERT encoder model from TensorFlow Hub. The BERT base model for English text, with an uncased vocabulary, 12 layers, 768 hidden units, and 12 attention heads is used. This model is responsible for encoding the preprocessed text into meaningful representations or embeddings. "
      ]
    },
    {
      "cell_type": "code",
      "execution_count": 14,
      "metadata": {
        "id": "jROcF4WRJl4E"
      },
      "outputs": [],
      "source": [
        "bert_preprocess = hub.KerasLayer(\"https://tfhub.dev/tensorflow/bert_en_uncased_preprocess/3\")\n",
        "bert_encoder = hub.KerasLayer(\"https://tfhub.dev/tensorflow/bert_en_uncased_L-12_H-768_A-12/4\")"
      ]
    },
    {
      "attachments": {},
      "cell_type": "markdown",
      "metadata": {},
      "source": [
        "### Text-only model - "
      ]
    },
    {
      "cell_type": "code",
      "execution_count": 16,
      "metadata": {
        "colab": {
          "base_uri": "https://localhost:8080/"
        },
        "id": "PVRVBTl_JUql",
        "outputId": "244f298e-71a2-4ee3-9f21-3cfc9dc4c381"
      },
      "outputs": [
        {
          "name": "stdout",
          "output_type": "stream",
          "text": [
            "Model: \"model\"\n",
            "__________________________________________________________________________________________________\n",
            " Layer (type)                   Output Shape         Param #     Connected to                     \n",
            "==================================================================================================\n",
            " text (InputLayer)              [(None,)]            0           []                               \n",
            "                                                                                                  \n",
            " keras_layer (KerasLayer)       {'input_type_ids':   0           ['text[0][0]']                   \n",
            "                                (None, 128),                                                      \n",
            "                                 'input_mask': (Non                                               \n",
            "                                e, 128),                                                          \n",
            "                                 'input_word_ids':                                                \n",
            "                                (None, 128)}                                                      \n",
            "                                                                                                  \n",
            " keras_layer_1 (KerasLayer)     {'sequence_output':  109482241   ['keras_layer[1][0]',            \n",
            "                                 (None, 128, 768),                'keras_layer[1][1]',            \n",
            "                                 'pooled_output': (               'keras_layer[1][2]']            \n",
            "                                None, 768),                                                       \n",
            "                                 'default': (None,                                                \n",
            "                                768),                                                             \n",
            "                                 'encoder_outputs':                                               \n",
            "                                 [(None, 128, 768),                                               \n",
            "                                 (None, 128, 768),                                                \n",
            "                                 (None, 128, 768),                                                \n",
            "                                 (None, 128, 768),                                                \n",
            "                                 (None, 128, 768),                                                \n",
            "                                 (None, 128, 768),                                                \n",
            "                                 (None, 128, 768),                                                \n",
            "                                 (None, 128, 768),                                                \n",
            "                                 (None, 128, 768),                                                \n",
            "                                 (None, 128, 768),                                                \n",
            "                                 (None, 128, 768),                                                \n",
            "                                 (None, 128, 768)]}                                               \n",
            "                                                                                                  \n",
            " lstm_1 (LSTM)                  (None, 128)          459264      ['keras_layer_1[1][14]']         \n",
            "                                                                                                  \n",
            " dropout (Dropout)              (None, 128)          0           ['lstm_1[0][0]']                 \n",
            "                                                                                                  \n",
            "==================================================================================================\n",
            "Total params: 109,941,505\n",
            "Trainable params: 459,264\n",
            "Non-trainable params: 109,482,241\n",
            "__________________________________________________________________________________________________\n"
          ]
        }
      ],
      "source": [
        "text_input = Input(shape=(), dtype=tf.string, name='text')\n",
        "preprocessed_text = bert_preprocess(text_input)\n",
        "outputs_text = bert_encoder(preprocessed_text)\n",
        "LSTM_Layer = tf.keras.layers.LSTM(units=128)(outputs_text['sequence_output'])\n",
        "outputLayer_text = tf.keras.layers.Dropout(0.1, name=\"dropout\")(LSTM_Layer)\n",
        "classification_model_text = Model(text_input, outputLayer_text)\n",
        "classification_model_text.compile(optimizer='adam', loss='categorical_crossentropy', metrics=['accuracy'])\n",
        "classification_model_text.summary()"
      ]
    },
    {
      "attachments": {},
      "cell_type": "markdown",
      "metadata": {},
      "source": [
        "Audio-only model - "
      ]
    },
    {
      "cell_type": "code",
      "execution_count": 24,
      "metadata": {
        "colab": {
          "base_uri": "https://localhost:8080/"
        },
        "id": "ZsZ9NlEgUSYT",
        "outputId": "575f317b-94de-4e06-cc95-98991053c27a"
      },
      "outputs": [
        {
          "name": "stdout",
          "output_type": "stream",
          "text": [
            "Model: \"model_3\"\n",
            "_________________________________________________________________\n",
            " Layer (type)                Output Shape              Param #   \n",
            "=================================================================\n",
            " input_2 (InputLayer)        [(None, 40, 107, 1)]      0         \n",
            "                                                                 \n",
            " conv2d_4 (Conv2D)           (None, 40, 107, 32)       1600      \n",
            "                                                                 \n",
            " batch_normalization_4 (Batc  (None, 40, 107, 32)      160       \n",
            " hNormalization)                                                 \n",
            "                                                                 \n",
            " activation_4 (Activation)   (None, 40, 107, 32)       0         \n",
            "                                                                 \n",
            " max_pooling2d_4 (MaxPooling  (None, 20, 53, 32)       0         \n",
            " 2D)                                                             \n",
            "                                                                 \n",
            " dropout_5 (Dropout)         (None, 20, 53, 32)        0         \n",
            "                                                                 \n",
            " conv2d_5 (Conv2D)           (None, 20, 53, 64)        100416    \n",
            "                                                                 \n",
            " batch_normalization_5 (Batc  (None, 20, 53, 64)       80        \n",
            " hNormalization)                                                 \n",
            "                                                                 \n",
            " activation_5 (Activation)   (None, 20, 53, 64)        0         \n",
            "                                                                 \n",
            " max_pooling2d_5 (MaxPooling  (None, 10, 26, 64)       0         \n",
            " 2D)                                                             \n",
            "                                                                 \n",
            " dropout_6 (Dropout)         (None, 10, 26, 64)        0         \n",
            "                                                                 \n",
            " conv2d_6 (Conv2D)           (None, 10, 26, 128)       401536    \n",
            "                                                                 \n",
            " batch_normalization_6 (Batc  (None, 10, 26, 128)      40        \n",
            " hNormalization)                                                 \n",
            "                                                                 \n",
            " activation_6 (Activation)   (None, 10, 26, 128)       0         \n",
            "                                                                 \n",
            " max_pooling2d_6 (MaxPooling  (None, 5, 13, 128)       0         \n",
            " 2D)                                                             \n",
            "                                                                 \n",
            " dropout_7 (Dropout)         (None, 5, 13, 128)        0         \n",
            "                                                                 \n",
            " conv2d_7 (Conv2D)           (None, 5, 13, 256)        1605888   \n",
            "                                                                 \n",
            " batch_normalization_7 (Batc  (None, 5, 13, 256)       20        \n",
            " hNormalization)                                                 \n",
            "                                                                 \n",
            " activation_7 (Activation)   (None, 5, 13, 256)        0         \n",
            "                                                                 \n",
            " max_pooling2d_7 (MaxPooling  (None, 2, 6, 256)        0         \n",
            " 2D)                                                             \n",
            "                                                                 \n",
            " dropout_8 (Dropout)         (None, 2, 6, 256)         0         \n",
            "                                                                 \n",
            " flatten_1 (Flatten)         (None, 3072)              0         \n",
            "                                                                 \n",
            " dense_2 (Dense)             (None, 128)               393344    \n",
            "                                                                 \n",
            " dropout_9 (Dropout)         (None, 128)               0         \n",
            "                                                                 \n",
            "=================================================================\n",
            "Total params: 2,503,084\n",
            "Trainable params: 2,502,934\n",
            "Non-trainable params: 150\n",
            "_________________________________________________________________\n",
            "None\n"
          ]
        }
      ],
      "source": [
        "inputLayer_audio = Input(shape=x_train_audio[0].shape)\n",
        "\n",
        "CONV_audio = Conv2D(32, kernel_size=(7, 7), padding='same')(inputLayer_audio)\n",
        "CONV_audio = BatchNormalization(axis=1)(CONV_audio)\n",
        "CONV_audio = Activation('relu')(CONV_audio)\n",
        "CONV_audio = MaxPooling2D(pool_size=2)(CONV_audio)\n",
        "CONV_audio = Dropout(0.2)(CONV_audio)\n",
        "\n",
        "CONV_audio = Conv2D(64, kernel_size=(7, 7), padding='same')(CONV_audio)\n",
        "CONV_audio = BatchNormalization(axis=1)(CONV_audio)\n",
        "CONV_audio = Activation('relu')(CONV_audio)\n",
        "CONV_audio = MaxPooling2D(pool_size=2)(CONV_audio)\n",
        "CONV_audio = Dropout(0.20)(CONV_audio)\n",
        "\n",
        "CONV_audio = Conv2D(128, kernel_size=(7, 7), padding='same')(CONV_audio)\n",
        "CONV_audio = BatchNormalization(axis=1)(CONV_audio)\n",
        "CONV_audio = Activation('relu')(CONV_audio)\n",
        "CONV_audio = MaxPooling2D(pool_size=2)(CONV_audio)\n",
        "CONV_audio = Dropout(0.20)(CONV_audio)\n",
        "\n",
        "CONV_audio = Conv2D(256, kernel_size=(7, 7), padding='same')(CONV_audio)\n",
        "CONV_audio = BatchNormalization(axis=1)(CONV_audio)\n",
        "CONV_audio = Activation('relu')(CONV_audio)\n",
        "CONV_audio = MaxPooling2D(pool_size=2)(CONV_audio)\n",
        "CONV_audio = Dropout(0.20)(CONV_audio)\n",
        "\n",
        "FLATTEN_audio = Flatten()(CONV_audio)\n",
        "DENSE_audio = Dense(128, activation='relu')(FLATTEN_audio)\n",
        "outputLayer_audio = Dropout(0.20)(DENSE_audio)\n",
        "\n",
        "classification_model_audio = Model(inputLayer_audio, outputLayer_audio)\n",
        "\n",
        "print(classification_model_audio.summary())\n",
        "\n",
        "classification_model_audio.compile(loss='categorical_crossentropy', \n",
        "              optimizer=Adam(learning_rate=0.0001), \n",
        "              metrics=['accuracy']) "
      ]
    },
    {
      "cell_type": "code",
      "execution_count": 27,
      "metadata": {
        "id": "VMczw0oEUSYU"
      },
      "outputs": [],
      "source": [
        "tf.config.run_functions_eagerly(True)"
      ]
    },
    {
      "attachments": {},
      "cell_type": "markdown",
      "metadata": {},
      "source": [
        "Since the zip file of the validation set provided with the MELD dataset was corrupted, we created our own validation split from the train data."
      ]
    },
    {
      "cell_type": "code",
      "execution_count": 28,
      "metadata": {
        "id": "VXxf8ZcAUSYU"
      },
      "outputs": [],
      "source": [
        "from sklearn.model_selection import train_test_split\n",
        "\n",
        "X_train_audio, X_valid_audio, Y_train, Y_valid = train_test_split(x_train_audio, train_Y, test_size=0.2, random_state=42)\n",
        "X_train_text, X_valid_text, Y_train, Y_valid = train_test_split(x_train_text, train_Y, test_size=0.2, random_state=42)"
      ]
    },
    {
      "cell_type": "code",
      "execution_count": 29,
      "metadata": {
        "id": "fmdjvSrNUSYU"
      },
      "outputs": [],
      "source": [
        "type = '/content/drive/MyDrive/emotion/multimodal'"
      ]
    },
    {
      "cell_type": "code",
      "execution_count": 30,
      "metadata": {
        "id": "e4tLrkDvUSYV"
      },
      "outputs": [],
      "source": [
        "checkpoint = ModelCheckpoint(type + '.h5', monitor='val_accuracy',verbose=1, save_best_only=True)\n",
        "es = EarlyStopping(monitor = \"val_accuracy\", min_delta = 0.01, patience=10, mode = \"max\", restore_best_weights = True, verbose=1)"
      ]
    },
    {
      "cell_type": "code",
      "execution_count": 22,
      "metadata": {
        "id": "jsfFAPtlKZee"
      },
      "outputs": [],
      "source": [
        "from keras.layers import Concatenate"
      ]
    },
    {
      "attachments": {},
      "cell_type": "markdown",
      "metadata": {},
      "source": [
        "Finally, we concatenate the last layers before the Dense layer of the Audio and Text models and create a concatenated model which takes both feature sets as input and predicts the emotions from them."
      ]
    },
    {
      "cell_type": "code",
      "execution_count": 26,
      "metadata": {
        "colab": {
          "base_uri": "https://localhost:8080/"
        },
        "id": "Tqwbm16kKOIZ",
        "outputId": "53df29e4-9059-4c9d-fa0d-30ecad302577"
      },
      "outputs": [
        {
          "name": "stdout",
          "output_type": "stream",
          "text": [
            "Model: \"model_5\"\n",
            "__________________________________________________________________________________________________\n",
            " Layer (type)                   Output Shape         Param #     Connected to                     \n",
            "==================================================================================================\n",
            " input_2 (InputLayer)           [(None, 40, 107, 1)  0           []                               \n",
            "                                ]                                                                 \n",
            "                                                                                                  \n",
            " conv2d_4 (Conv2D)              (None, 40, 107, 32)  1600        ['input_2[0][0]']                \n",
            "                                                                                                  \n",
            " batch_normalization_4 (BatchNo  (None, 40, 107, 32)  160        ['conv2d_4[0][0]']               \n",
            " rmalization)                                                                                     \n",
            "                                                                                                  \n",
            " activation_4 (Activation)      (None, 40, 107, 32)  0           ['batch_normalization_4[0][0]']  \n",
            "                                                                                                  \n",
            " max_pooling2d_4 (MaxPooling2D)  (None, 20, 53, 32)  0           ['activation_4[0][0]']           \n",
            "                                                                                                  \n",
            " dropout_5 (Dropout)            (None, 20, 53, 32)   0           ['max_pooling2d_4[0][0]']        \n",
            "                                                                                                  \n",
            " conv2d_5 (Conv2D)              (None, 20, 53, 64)   100416      ['dropout_5[0][0]']              \n",
            "                                                                                                  \n",
            " batch_normalization_5 (BatchNo  (None, 20, 53, 64)  80          ['conv2d_5[0][0]']               \n",
            " rmalization)                                                                                     \n",
            "                                                                                                  \n",
            " activation_5 (Activation)      (None, 20, 53, 64)   0           ['batch_normalization_5[0][0]']  \n",
            "                                                                                                  \n",
            " max_pooling2d_5 (MaxPooling2D)  (None, 10, 26, 64)  0           ['activation_5[0][0]']           \n",
            "                                                                                                  \n",
            " dropout_6 (Dropout)            (None, 10, 26, 64)   0           ['max_pooling2d_5[0][0]']        \n",
            "                                                                                                  \n",
            " conv2d_6 (Conv2D)              (None, 10, 26, 128)  401536      ['dropout_6[0][0]']              \n",
            "                                                                                                  \n",
            " batch_normalization_6 (BatchNo  (None, 10, 26, 128)  40         ['conv2d_6[0][0]']               \n",
            " rmalization)                                                                                     \n",
            "                                                                                                  \n",
            " activation_6 (Activation)      (None, 10, 26, 128)  0           ['batch_normalization_6[0][0]']  \n",
            "                                                                                                  \n",
            " max_pooling2d_6 (MaxPooling2D)  (None, 5, 13, 128)  0           ['activation_6[0][0]']           \n",
            "                                                                                                  \n",
            " dropout_7 (Dropout)            (None, 5, 13, 128)   0           ['max_pooling2d_6[0][0]']        \n",
            "                                                                                                  \n",
            " conv2d_7 (Conv2D)              (None, 5, 13, 256)   1605888     ['dropout_7[0][0]']              \n",
            "                                                                                                  \n",
            " batch_normalization_7 (BatchNo  (None, 5, 13, 256)  20          ['conv2d_7[0][0]']               \n",
            " rmalization)                                                                                     \n",
            "                                                                                                  \n",
            " activation_7 (Activation)      (None, 5, 13, 256)   0           ['batch_normalization_7[0][0]']  \n",
            "                                                                                                  \n",
            " max_pooling2d_7 (MaxPooling2D)  (None, 2, 6, 256)   0           ['activation_7[0][0]']           \n",
            "                                                                                                  \n",
            " text (InputLayer)              [(None,)]            0           []                               \n",
            "                                                                                                  \n",
            " dropout_8 (Dropout)            (None, 2, 6, 256)    0           ['max_pooling2d_7[0][0]']        \n",
            "                                                                                                  \n",
            " keras_layer (KerasLayer)       {'input_type_ids':   0           ['text[0][0]']                   \n",
            "                                (None, 128),                                                      \n",
            "                                 'input_mask': (Non                                               \n",
            "                                e, 128),                                                          \n",
            "                                 'input_word_ids':                                                \n",
            "                                (None, 128)}                                                      \n",
            "                                                                                                  \n",
            " flatten_1 (Flatten)            (None, 3072)         0           ['dropout_8[0][0]']              \n",
            "                                                                                                  \n",
            " keras_layer_1 (KerasLayer)     {'sequence_output':  109482241   ['keras_layer[1][0]',            \n",
            "                                 (None, 128, 768),                'keras_layer[1][1]',            \n",
            "                                 'pooled_output': (               'keras_layer[1][2]']            \n",
            "                                None, 768),                                                       \n",
            "                                 'default': (None,                                                \n",
            "                                768),                                                             \n",
            "                                 'encoder_outputs':                                               \n",
            "                                 [(None, 128, 768),                                               \n",
            "                                 (None, 128, 768),                                                \n",
            "                                 (None, 128, 768),                                                \n",
            "                                 (None, 128, 768),                                                \n",
            "                                 (None, 128, 768),                                                \n",
            "                                 (None, 128, 768),                                                \n",
            "                                 (None, 128, 768),                                                \n",
            "                                 (None, 128, 768),                                                \n",
            "                                 (None, 128, 768),                                                \n",
            "                                 (None, 128, 768),                                                \n",
            "                                 (None, 128, 768),                                                \n",
            "                                 (None, 128, 768)]}                                               \n",
            "                                                                                                  \n",
            " dense_2 (Dense)                (None, 128)          393344      ['flatten_1[0][0]']              \n",
            "                                                                                                  \n",
            " lstm_1 (LSTM)                  (None, 128)          459264      ['keras_layer_1[1][14]']         \n",
            "                                                                                                  \n",
            " dropout_9 (Dropout)            (None, 128)          0           ['dense_2[0][0]']                \n",
            "                                                                                                  \n",
            " dropout (Dropout)              (None, 128)          0           ['lstm_1[0][0]']                 \n",
            "                                                                                                  \n",
            " concatenate_2 (Concatenate)    (None, 256)          0           ['dropout_9[0][0]',              \n",
            "                                                                  'dropout[0][0]']                \n",
            "                                                                                                  \n",
            " dense_4 (Dense)                (None, 7)            1799        ['concatenate_2[0][0]']          \n",
            "                                                                                                  \n",
            "==================================================================================================\n",
            "Total params: 112,446,388\n",
            "Trainable params: 2,963,997\n",
            "Non-trainable params: 109,482,391\n",
            "__________________________________________________________________________________________________\n"
          ]
        }
      ],
      "source": [
        "concatenate = Concatenate()([outputLayer_audio, outputLayer_text])\n",
        "y_predict_emotions = Dense(7, activation='softmax')(concatenate)\n",
        "model = Model(inputs=[inputLayer_audio, text_input], outputs=y_predict_emotions)\n",
        "model.summary()"
      ]
    },
    {
      "cell_type": "code",
      "execution_count": 31,
      "metadata": {
        "id": "-jiLRsT_KN5u"
      },
      "outputs": [],
      "source": [
        "model.compile(optimizer = 'adam', loss = 'categorical_crossentropy', metrics = ['accuracy'])\n"
      ]
    },
    {
      "cell_type": "code",
      "execution_count": 32,
      "metadata": {
        "colab": {
          "base_uri": "https://localhost:8080/"
        },
        "id": "cBxqkis-USYV",
        "outputId": "e2cb5f68-0ca6-414f-e1c9-932f8e068bd9"
      },
      "outputs": [
        {
          "name": "stdout",
          "output_type": "stream",
          "text": [
            "Epoch 1/100\n",
            "250/250 [==============================] - ETA: 0s - loss: 1.2568 - accuracy: 0.5849\n",
            "Epoch 1: val_accuracy improved from -inf to 0.60460, saving model to /content/drive/MyDrive/emotion/multimodal.h5\n",
            "250/250 [==============================] - 305s 1s/step - loss: 1.2568 - accuracy: 0.5849 - val_loss: 1.2373 - val_accuracy: 0.6046\n",
            "Epoch 2/100\n",
            "250/250 [==============================] - ETA: 0s - loss: 1.1320 - accuracy: 0.6242\n",
            "Epoch 2: val_accuracy improved from 0.60460 to 0.62262, saving model to /content/drive/MyDrive/emotion/multimodal.h5\n",
            "250/250 [==============================] - 287s 1s/step - loss: 1.1320 - accuracy: 0.6242 - val_loss: 1.1517 - val_accuracy: 0.6226\n",
            "Epoch 3/100\n",
            "250/250 [==============================] - ETA: 0s - loss: 1.0962 - accuracy: 0.6319\n",
            "Epoch 3: val_accuracy did not improve from 0.62262\n",
            "250/250 [==============================] - 277s 1s/step - loss: 1.0962 - accuracy: 0.6319 - val_loss: 1.1884 - val_accuracy: 0.5806\n",
            "Epoch 4/100\n",
            "250/250 [==============================] - ETA: 0s - loss: 1.0482 - accuracy: 0.6453\n",
            "Epoch 4: val_accuracy did not improve from 0.62262\n",
            "250/250 [==============================] - 277s 1s/step - loss: 1.0482 - accuracy: 0.6453 - val_loss: 1.1479 - val_accuracy: 0.6136\n",
            "Epoch 5/100\n",
            "250/250 [==============================] - ETA: 0s - loss: 1.0092 - accuracy: 0.6613\n",
            "Epoch 5: val_accuracy did not improve from 0.62262\n",
            "250/250 [==============================] - 259s 1s/step - loss: 1.0092 - accuracy: 0.6613 - val_loss: 1.1375 - val_accuracy: 0.6131\n",
            "Epoch 6/100\n",
            "250/250 [==============================] - ETA: 0s - loss: 0.9734 - accuracy: 0.6711\n",
            "Epoch 6: val_accuracy did not improve from 0.62262\n",
            "250/250 [==============================] - 275s 1s/step - loss: 0.9734 - accuracy: 0.6711 - val_loss: 1.1549 - val_accuracy: 0.6186\n",
            "Epoch 7/100\n",
            "250/250 [==============================] - ETA: 0s - loss: 0.9319 - accuracy: 0.6835\n",
            "Epoch 7: val_accuracy did not improve from 0.62262\n",
            "250/250 [==============================] - 258s 1s/step - loss: 0.9319 - accuracy: 0.6835 - val_loss: 1.1824 - val_accuracy: 0.6191\n",
            "Epoch 8/100\n",
            "250/250 [==============================] - ETA: 0s - loss: 0.8791 - accuracy: 0.6971\n",
            "Epoch 8: val_accuracy did not improve from 0.62262\n",
            "250/250 [==============================] - 276s 1s/step - loss: 0.8791 - accuracy: 0.6971 - val_loss: 1.1651 - val_accuracy: 0.6131\n",
            "Epoch 9/100\n",
            "250/250 [==============================] - ETA: 0s - loss: 0.8411 - accuracy: 0.7130\n",
            "Epoch 9: val_accuracy did not improve from 0.62262\n",
            "250/250 [==============================] - 276s 1s/step - loss: 0.8411 - accuracy: 0.7130 - val_loss: 1.2222 - val_accuracy: 0.6026\n",
            "Epoch 10/100\n",
            "250/250 [==============================] - ETA: 0s - loss: 0.7680 - accuracy: 0.7363\n",
            "Epoch 10: val_accuracy did not improve from 0.62262\n",
            "250/250 [==============================] - 258s 1s/step - loss: 0.7680 - accuracy: 0.7363 - val_loss: 1.2349 - val_accuracy: 0.5886\n",
            "Epoch 11/100\n",
            "250/250 [==============================] - ETA: 0s - loss: 0.7089 - accuracy: 0.7610\n",
            "Epoch 11: val_accuracy did not improve from 0.62262\n",
            "250/250 [==============================] - 275s 1s/step - loss: 0.7089 - accuracy: 0.7610 - val_loss: 1.2612 - val_accuracy: 0.6031\n",
            "Epoch 12/100\n",
            "250/250 [==============================] - ETA: 0s - loss: 0.6430 - accuracy: 0.7773\n",
            "Epoch 12: val_accuracy did not improve from 0.62262\n",
            "Restoring model weights from the end of the best epoch: 2.\n",
            "250/250 [==============================] - 276s 1s/step - loss: 0.6430 - accuracy: 0.7773 - val_loss: 1.3654 - val_accuracy: 0.5966\n",
            "Epoch 12: early stopping\n"
          ]
        }
      ],
      "source": [
        "model.fit([X_train_audio, X_train_text], Y_train, batch_size=32, epochs=100, callbacks=[checkpoint, es],\n",
        "                                verbose=1, validation_data=([X_valid_audio, X_valid_text], Y_valid), shuffle=True)"
      ]
    },
    {
      "cell_type": "code",
      "execution_count": 36,
      "metadata": {
        "id": "MtcYCzfx1tk5"
      },
      "outputs": [],
      "source": [
        "from keras.models import load_model\n",
        "model = load_model('/content/drive/MyDrive/emotion/multimodal.h5', custom_objects={'KerasLayer':hub.KerasLayer})\n"
      ]
    },
    {
      "attachments": {},
      "cell_type": "markdown",
      "metadata": {},
      "source": [
        "The Loss and Accuracy of the trained model on the test set is given below - "
      ]
    },
    {
      "cell_type": "code",
      "execution_count": 38,
      "metadata": {
        "colab": {
          "base_uri": "https://localhost:8080/"
        },
        "id": "ig3oH2IvUSYV",
        "outputId": "1f282feb-ec12-4b6d-8cd9-b6c51e37c1de"
      },
      "outputs": [
        {
          "name": "stdout",
          "output_type": "stream",
          "text": [
            "82/82 [==============================] - 32s 388ms/step - loss: 1.1066 - accuracy: 0.6253\n",
            "Test loss: 1.106624960899353\n",
            "Test accuracy: 0.6252873539924622\n"
          ]
        }
      ],
      "source": [
        "test_loss, test_acc = model.evaluate([x_test_audio, x_test_text], test_Y)\n",
        "print('Test loss:', test_loss)\n",
        "print('Test accuracy:', test_acc)"
      ]
    },
    {
      "cell_type": "code",
      "execution_count": 40,
      "metadata": {
        "colab": {
          "base_uri": "https://localhost:8080/"
        },
        "id": "1EdixnF-USYV",
        "outputId": "60b8f695-6e6a-499b-9947-db32eb27c2ee"
      },
      "outputs": [
        {
          "name": "stdout",
          "output_type": "stream",
          "text": [
            "82/82 [==============================] - 31s 376ms/step\n"
          ]
        }
      ],
      "source": [
        "y_pred = model.predict([x_test_audio, x_test_text])\n",
        "y_pred = np.argmax(y_pred, axis=1)"
      ]
    },
    {
      "cell_type": "code",
      "execution_count": 41,
      "metadata": {
        "id": "zD4CVbLlUSYW"
      },
      "outputs": [],
      "source": [
        "y_test_encoded = np.argmax(test_Y, axis=1)"
      ]
    },
    {
      "cell_type": "code",
      "execution_count": 42,
      "metadata": {
        "colab": {
          "base_uri": "https://localhost:8080/"
        },
        "id": "RLd1cNrqUSYW",
        "outputId": "96d27287-c909-4166-a2ad-d19d1823e04f"
      },
      "outputs": [
        {
          "name": "stdout",
          "output_type": "stream",
          "text": [
            "              precision    recall  f1-score   support\n",
            "\n",
            "       anger       0.51      0.41      0.46       345\n",
            "     disgust       0.00      0.00      0.00        68\n",
            "        fear       0.29      0.04      0.07        50\n",
            "         joy       0.58      0.45      0.50       402\n",
            "     neutral       0.66      0.92      0.77      1256\n",
            "     sadness       0.54      0.10      0.16       208\n",
            "    surprise       0.57      0.49      0.53       281\n",
            "\n",
            "    accuracy                           0.63      2610\n",
            "   macro avg       0.45      0.34      0.36      2610\n",
            "weighted avg       0.59      0.63      0.58      2610\n",
            "\n"
          ]
        }
      ],
      "source": [
        "print(classification_report(y_test_encoded, y_pred, target_names=class_names_encoded))"
      ]
    },
    {
      "cell_type": "code",
      "execution_count": 43,
      "metadata": {
        "colab": {
          "base_uri": "https://localhost:8080/",
          "height": 612
        },
        "id": "UvvkRIyiUSYW",
        "outputId": "83c8cfa9-eeb9-4465-8edb-f674eb38d3e2"
      },
      "outputs": [
        {
          "data": {
            "image/png": "[encoded data removed]",
            "text/plain": [
              "<Figure size 600x600 with 2 Axes>"
            ]
          },
          "metadata": {},
          "output_type": "display_data"
        }
      ],
      "source": [
        "cm = confusion_matrix(y_test_encoded, y_pred)\n",
        "cr = ClassificationReport()\n",
        "cr.plot_confusion_matrix(cm=cm, normalize = False, target_names = class_names_encoded)"
      ]
    },
    {
      "cell_type": "code",
      "execution_count": null,
      "metadata": {
        "id": "6eE-EyVLUSYX"
      },
      "outputs": [],
      "source": []
    },
    {
      "cell_type": "code",
      "execution_count": null,
      "metadata": {
        "id": "ObwlPPXzdiXe"
      },
      "outputs": [],
      "source": []
    }
  ],
  "metadata": {
    "accelerator": "GPU",
    "colab": {
      "gpuType": "T4",
      "provenance": []
    },
    "gpuClass": "standard",
    "kernelspec": {
      "display_name": "Python 3",
      "language": "python",
      "name": "python3"
    },
    "language_info": {
      "codemirror_mode": {
        "name": "ipython",
        "version": 3
      },
      "file_extension": ".py",
      "mimetype": "text/x-python",
      "name": "python",
      "nbconvert_exporter": "python",
      "pygments_lexer": "ipython3",
      "version": "3.10.11"
    },
    "orig_nbformat": 4
  },
  "nbformat": 4,
  "nbformat_minor": 0
}
